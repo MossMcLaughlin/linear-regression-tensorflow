{
 "cells": [
  {
   "cell_type": "markdown",
   "metadata": {
    "deletable": true,
    "editable": true
   },
   "source": [
    "### Linear Regression\n",
    "** Modeling a Linear Relationship in Tensorflow **  \n",
    "In this notebook we model the relationship between ground temperature and the chirping of crickets. The dataset is derived from a book \"Songs of the Insects\" written in 1948 by  G. W. Pierce."
   ]
  },
  {
   "cell_type": "code",
   "execution_count": 1,
   "metadata": {
    "collapsed": false,
    "deletable": true,
    "editable": true
   },
   "outputs": [],
   "source": [
    "import tensorflow as tf\n",
    "import pandas as pd\n",
    "import matplotlib.pyplot as plt\n",
    "import numpy as np"
   ]
  },
  {
   "cell_type": "code",
   "execution_count": 2,
   "metadata": {
    "collapsed": false,
    "deletable": true,
    "editable": true
   },
   "outputs": [],
   "source": [
    "# Download data\n",
    "#!wget -nv -O data/PierceCricketData.csv 'https://ibm.box.com/shared/static/reyjo1hk43m2x79nreywwfwcdd5yi8zu.csv'"
   ]
  },
  {
   "cell_type": "markdown",
   "metadata": {
    "deletable": true,
    "editable": true
   },
   "source": [
    "** View Data ** "
   ]
  },
  {
   "cell_type": "code",
   "execution_count": 3,
   "metadata": {
    "collapsed": false,
    "deletable": true,
    "editable": true
   },
   "outputs": [
    {
     "data": {
      "text/html": [
       "<div>\n",
       "<style>\n",
       "    .dataframe thead tr:only-child th {\n",
       "        text-align: right;\n",
       "    }\n",
       "\n",
       "    .dataframe thead th {\n",
       "        text-align: left;\n",
       "    }\n",
       "\n",
       "    .dataframe tbody tr th {\n",
       "        vertical-align: top;\n",
       "    }\n",
       "</style>\n",
       "<table border=\"1\" class=\"dataframe\">\n",
       "  <thead>\n",
       "    <tr style=\"text-align: right;\">\n",
       "      <th></th>\n",
       "      <th>Chirps</th>\n",
       "      <th>Temp</th>\n",
       "    </tr>\n",
       "  </thead>\n",
       "  <tbody>\n",
       "    <tr>\n",
       "      <th>0</th>\n",
       "      <td>20.0</td>\n",
       "      <td>88.6</td>\n",
       "    </tr>\n",
       "    <tr>\n",
       "      <th>1</th>\n",
       "      <td>16.0</td>\n",
       "      <td>71.6</td>\n",
       "    </tr>\n",
       "    <tr>\n",
       "      <th>2</th>\n",
       "      <td>19.8</td>\n",
       "      <td>93.3</td>\n",
       "    </tr>\n",
       "    <tr>\n",
       "      <th>3</th>\n",
       "      <td>18.4</td>\n",
       "      <td>84.3</td>\n",
       "    </tr>\n",
       "    <tr>\n",
       "      <th>4</th>\n",
       "      <td>17.1</td>\n",
       "      <td>80.6</td>\n",
       "    </tr>\n",
       "  </tbody>\n",
       "</table>\n",
       "</div>"
      ],
      "text/plain": [
       "   Chirps  Temp\n",
       "0    20.0  88.6\n",
       "1    16.0  71.6\n",
       "2    19.8  93.3\n",
       "3    18.4  84.3\n",
       "4    17.1  80.6"
      ]
     },
     "execution_count": 3,
     "metadata": {},
     "output_type": "execute_result"
    }
   ],
   "source": [
    "datafile = pd.read_csv(\"data/PierceCricketData.csv\")\n",
    "datafile.head()"
   ]
  },
  {
   "cell_type": "code",
   "execution_count": 4,
   "metadata": {
    "collapsed": false,
    "deletable": true,
    "editable": true
   },
   "outputs": [
    {
     "data": {
      "text/plain": [
       "<matplotlib.text.Text at 0x11011a5f8>"
      ]
     },
     "execution_count": 4,
     "metadata": {},
     "output_type": "execute_result"
    },
    {
     "data": {
      "image/png": "[encoded data removed]",
      "text/plain": [
       "<matplotlib.figure.Figure at 0x110016160>"
      ]
     },
     "metadata": {},
     "output_type": "display_data"
    }
   ],
   "source": [
    "%matplotlib inline\n",
    "\n",
    "x_data, y_data = (datafile[\"Chirps\"].values,datafile[\"Temp\"].values)\n",
    "\n",
    "# plots the data points\n",
    "plt.plot(x_data, y_data, 'ro')\n",
    "# label the axis\n",
    "plt.axis([13,21,65,100])\n",
    "plt.xlabel(\"# Chirps per 15 sec\")\n",
    "plt.ylabel(\"Temp in Farenhiet\")\n"
   ]
  },
  {
   "cell_type": "markdown",
   "metadata": {
    "deletable": true,
    "editable": true
   },
   "source": [
    "We can see a linear relationship in the data, and it is suitable to be fit to a linear equation of the form *Y = mX + b*  \n",
    "\n",
    "** Creating a Tensorflow Graph **  \n",
    "To implement linear regression, we first take an approximation for our m & b values, which we then will update. "
   ]
  },
  {
   "cell_type": "code",
   "execution_count": 5,
   "metadata": {
    "collapsed": false,
    "deletable": true,
    "editable": true
   },
   "outputs": [],
   "source": [
    "X = tf.placeholder(tf.float32,shape=(x_data.size))\n",
    "Y = tf.placeholder(tf.float32,shape=(y_data.size))\n",
    "m = tf.Variable(3.5)\n",
    "b = tf.Variable(10.0)\n",
    "\n",
    "O = tf.add(tf.multiply(X,m),b)\n",
    "                "
   ]
  },
  {
   "cell_type": "markdown",
   "metadata": {
    "collapsed": true,
    "deletable": true,
    "editable": true
   },
   "source": [
    "** Create and Run Tensorflow Session **"
   ]
  },
  {
   "cell_type": "code",
   "execution_count": 6,
   "metadata": {
    "collapsed": false,
    "deletable": true,
    "editable": true
   },
   "outputs": [],
   "source": [
    "sess = tf.Session()\n",
    "sess.run(tf.global_variables_initializer())\n",
    "prediction = sess.run(O,feed_dict={X:x_data})\n"
   ]
  },
  {
   "cell_type": "markdown",
   "metadata": {},
   "source": [
    "** View inital prediction **"
   ]
  },
  {
   "cell_type": "code",
   "execution_count": 7,
   "metadata": {
    "collapsed": false,
    "scrolled": true
   },
   "outputs": [
    {
     "data": {
      "text/plain": [
       "<matplotlib.text.Text at 0x11029d320>"
      ]
     },
     "execution_count": 7,
     "metadata": {},
     "output_type": "execute_result"
    },
    {
     "data": {
      "image/png": "[encoded data removed]",
      "text/plain": [
       "<matplotlib.figure.Figure at 0x110196208>"
      ]
     },
     "metadata": {},
     "output_type": "display_data"
    }
   ],
   "source": [
    "#plot initial prediction against datapoints\n",
    "plt.plot(x_data, prediction)\n",
    "plt.plot(x_data, y_data, 'ro')\n",
    "# label the axis\n",
    "plt.axis([13,21,65,100])\n",
    "plt.xlabel(\"# Chirps per 15 sec\")\n",
    "plt.ylabel(\"Temp in Farenhiet\")"
   ]
  },
  {
   "cell_type": "markdown",
   "metadata": {
    "deletable": true,
    "editable": true
   },
   "source": [
    "Our initial line is in the general area, but can obviously be improved. We accomplish this my looking at the differnce between our predictions and actual data points.\n",
    "\n",
    "To quantitatively evaluate our performance, we define a loss function where O(X) is our prediction (output) and Y is the data value we are trying to fit.  \n",
    "\n",
    "$$ loss = \\frac{1}{n}\\sum_{i=1}^n{[O_i - Y_i]^2} $$\n",
    "\n",
    "Tensowflow has built in ops for many differnt loss functions, as well as optimizers for reducing loss. This particular loss function is the * mean square differnce. *"
   ]
  },
  {
   "cell_type": "code",
   "execution_count": 8,
   "metadata": {
    "collapsed": false,
    "deletable": true,
    "editable": true
   },
   "outputs": [],
   "source": [
    "normalization = 0.1\n",
    "loss = tf.reduce_mean(tf.squared_difference(O*normalization,Y*normalization))\n",
    "#optimizer = tf.train.GradientDescentOptimizer(learning_rate=0.01)\n",
    "optimizer = tf.train.AdagradOptimizer(0.01)\n",
    "train = optimizer.minimize(loss)"
   ]
  },
  {
   "cell_type": "code",
   "execution_count": 9,
   "metadata": {
    "collapsed": true
   },
   "outputs": [],
   "source": [
    "sess.run(tf.global_variables_initializer())"
   ]
  },
  {
   "cell_type": "markdown",
   "metadata": {},
   "source": [
    "We now define a loop where we update our m & b values until the change is negligable."
   ]
  },
  {
   "cell_type": "code",
   "execution_count": 10,
   "metadata": {
    "collapsed": false
   },
   "outputs": [],
   "source": [
    "min_update_difference = 0.0001\n",
    "previous_m = 10000\n",
    "previous_b = 10000\n",
    "steps = []\n",
    "losses = []\n",
    "linear_fit = None "
   ]
  },
  {
   "cell_type": "code",
   "execution_count": 11,
   "metadata": {
    "collapsed": false
   },
   "outputs": [
    {
     "name": "stdout",
     "output_type": "stream",
     "text": [
      "Finished. Equation found by linear regression: Y = 4.04876708984375X + 10.537397384643555\n",
      "Loss: 0.18839183449745178, Num steps: 1497\n"
     ]
    }
   ],
   "source": [
    "for i in range(10000):\n",
    "    _, _m , _b,_l = sess.run([train, m, b,loss],feed_dict={X:x_data,Y:y_data})\n",
    "    steps.append((_m,_b))\n",
    "    losses.append(_l)\n",
    "    if (np.abs(previous_m - _m) <= min_update_difference): #or (np.abs(previous_b - _b) <= min_update_difference) :\n",
    "        print(\"Finished. Equation found by linear regression: Y = {}X + {}\".format(_m,_b))\n",
    "        print(\"Loss: {}, Num steps: {}\".format(_l,i))\n",
    "        linear_fit = [_m * x + _b for x in x_data]\n",
    "        break\n",
    "    previous_m = _m\n",
    "sess.close()    "
   ]
  },
  {
   "cell_type": "code",
   "execution_count": 12,
   "metadata": {
    "collapsed": false,
    "scrolled": true
   },
   "outputs": [
    {
     "data": {
      "text/plain": [
       "<matplotlib.text.Text at 0x1105bdb70>"
      ]
     },
     "execution_count": 12,
     "metadata": {},
     "output_type": "execute_result"
    },
    {
     "data": {
      "image/png": "[encoded data removed]",
      "text/plain": [
       "<matplotlib.figure.Figure at 0x110031c18>"
      ]
     },
     "metadata": {},
     "output_type": "display_data"
    }
   ],
   "source": [
    "#plot final prediction against datapoints\n",
    "plt.plot(x_data, linear_fit)\n",
    "plt.plot(x_data, y_data, 'ro')\n",
    "# label the axis\n",
    "plt.xlabel(\"# Chirps per 15 sec\")\n",
    "plt.ylabel(\"Temp in Farenhiet\")"
   ]
  },
  {
   "cell_type": "markdown",
   "metadata": {},
   "source": [
    "And we have a better fit! We can view logs from linear regression that show how our loss decreases over iterations  "
   ]
  },
  {
   "cell_type": "code",
   "execution_count": 13,
   "metadata": {
    "collapsed": false,
    "scrolled": true
   },
   "outputs": [
    {
     "data": {
      "text/plain": [
       "[<matplotlib.lines.Line2D at 0x111049240>]"
      ]
     },
     "execution_count": 13,
     "metadata": {},
     "output_type": "execute_result"
    },
    {
     "data": {
      "image/png": "[encoded data removed]",
      "text/plain": [
       "<matplotlib.figure.Figure at 0x110103b70>"
      ]
     },
     "metadata": {},
     "output_type": "display_data"
    }
   ],
   "source": [
    "plt.plot(losses)"
   ]
  },
  {
   "cell_type": "code",
   "execution_count": 14,
   "metadata": {
    "collapsed": false
   },
   "outputs": [],
   "source": [
    "import matplotlib.animation\n",
    "\n",
    "matplotlib.rc('animation', html='html5')\n",
    "\n",
    "def plot_image(x_data,y_data,steps):\n",
    "    num_steps = len(steps)\n",
    "    num_frames = 50\n",
    "    step_increment = np.floor(num_steps/num_frames)\n",
    "    steps = [step for i,step in enumerate(steps) if i % step_increment == 0]\n",
    "    ani_data = [x_data*m+b for m,b in steps]\n",
    "    fig = plt.figure(figsize = (5,5))\n",
    "    ax = plt.subplot(1,1,1)\n",
    "    line, = ax.plot([],[],'b-')\n",
    "    ax.plot(x_data,y_data,'ro')\n",
    "    def animate(i):\n",
    "        line.set_data(x_data,ani_data[i])\n",
    "        return line,\n",
    "    return matplotlib.animation.FuncAnimation(fig, animate, frames=range(0,len(ani_data)), interval=200, blit=True)\n"
   ]
  },
  {
   "cell_type": "markdown",
   "metadata": {},
   "source": [
    "We can view the updates to our linear fit as an animation over iterations, notice how the line updates quickly at first then slows down as the gradients converge.  "
   ]
  },
  {
   "cell_type": "code",
   "execution_count": 15,
   "metadata": {
    "collapsed": false,
    "scrolled": false
   },
   "outputs": [
    {
     "data": {
      "text/html": [
       "<video width=\"360\" height=\"360\" controls autoplay loop>\n",
       "  <source type=\"video/mp4\" src=\"data:video/mp4;base64,AAAAHGZ0eXBNNFYgAAACAGlzb21pc28yYXZjMQAAAAhmcmVlAABxwm1kYXQAAAKtBgX//6ncRem9\n",
       "5tlIt5Ys2CDZI+7veDI2NCAtIGNvcmUgMTQ4IHIyNzk1IGFhYTlhYTggLSBILjI2NC9NUEVHLTQg\n",
       "QVZDIGNvZGVjIC0gQ29weWxlZnQgMjAwMy0yMDE3IC0gaHR0cDovL3d3dy52aWRlb2xhbi5vcmcv\n",
       "eDI2NC5odG1sIC0gb3B0aW9uczogY2FiYWM9MSByZWY9MyBkZWJsb2NrPTE6MDowIGFuYWx5c2U9\n",
       "MHgzOjB4MTEzIG1lPWhleCBzdWJtZT03IHBzeT0xIHBzeV9yZD0xLjAwOjAuMDAgbWl4ZWRfcmVm\n",
       "PTEgbWVfcmFuZ2U9MTYgY2hyb21hX21lPTEgdHJlbGxpcz0xIDh4OGRjdD0xIGNxbT0wIGRlYWR6\n",
       "b25lPTIxLDExIGZhc3RfcHNraXA9MSBjaHJvbWFfcXBfb2Zmc2V0PS0yIHRocmVhZHM9NiBsb29r\n",
       "YWhlYWRfdGhyZWFkcz0xIHNsaWNlZF90aHJlYWRzPTAgbnI9MCBkZWNpbWF0ZT0xIGludGVybGFj\n",
       "ZWQ9MCBibHVyYXlfY29tcGF0PTAgY29uc3RyYWluZWRfaW50cmE9MCBiZnJhbWVzPTMgYl9weXJh\n",
       "bWlkPTIgYl9hZGFwdD0xIGJfYmlhcz0wIGRpcmVjdD0xIHdlaWdodGI9MSBvcGVuX2dvcD0wIHdl\n",
       "aWdodHA9MiBrZXlpbnQ9MjUwIGtleWludF9taW49NSBzY2VuZWN1dD00MCBpbnRyYV9yZWZyZXNo\n",
       "PTAgcmNfbG9va2FoZWFkPTQwIHJjPWNyZiBtYnRyZWU9MSBjcmY9MjMuMCBxY29tcD0wLjYwIHFw\n",
       "bWluPTAgcXBtYXg9NjkgcXBzdGVwPTQgaXBfcmF0aW89MS40MCBhcT0xOjEuMDAAgAAAE5dliIQA\n",
       "Ev/+963fgU3AQO1rulc4tMurlDQ9UfaUpni2SAAAGynPcqRY86EJ8lACDgV/BWf8QHUFc4KZVSGY\n",
       "isfPscIeZH5bnTDUgv8ebqdNemHO7dncTF5R7IPaCE4N7iS+0R6kkC3RVGK/3TC6cABX68wFJOpP\n",
       "Kd7o80Fz78PHokHVBUuv6f8Xkf9PZi72gaazs6r8QPFhUEJqvSehb7Lvnf3+9cpmqP9In1036L0F\n",
       "aGw1IcpbQkY7I2enuv7K/JW58laQqFOReBdd9JMrI8o/hHQsf6cMq0Z30mIBtWG/x3U2aeFtu3dj\n",
       "W02wz73ajv9wMYNBkYYFADBKrjDmOjVJyNBWPqFDEKbIMOVpfgrC0jpMlahBMafWShzmiW4CfMDO\n",
       "kb/69jy3GH7oeBzIb7pIbhysOeZw9O2HfhyYQ592tuDSTL9thEFxpP4yns8qne+G3Eol34T+8CBv\n",
       "e/nWyqYBpIZAB1DQYVJZ/JxXo8BrRyer8KOqlSZg5Rrb6mkd+CW6Jm1cKGUJQG+3b8AIVgK8ejdS\n",
       "YFd1PlKh4xlVDmI5X7I7fZDZwrjMgC3zE1Rkfwg8Jm6NLqJ4LM+ixhMP/Oov48TPMP79at5AMwYe\n",
       "42MnF92rGNL/Q6YOuA+rpcyotSjEnh98eBwJl7yUCeqzmzLM2mnayhDRENS/8aK0tsRSreEs9T7p\n",
       "zL4EWbRJ8RQOdjIv2mgf7bAmJa70yAP5eQYkk9z2lB9tcSzbZYE9Uah56G9i1Y5H/E9aOyvRsdmi\n",
       "wFPFWwacVPXFbEWSt0zYrHPv8/JDGTKVnvVd2YmaqwipAqCHdbC994wye9iYDuP9y3y86AeKXGKR\n",
       "BSbgYGkn7W+UT+XNySvTeYgkS5cGPXcvH0IuWQ/QOrng995hlJ3T4SKlrAjmovdnStizyNkd7hen\n",
       "xrqGRA/wK7krPjtYezL9qZtdPUFpzCWexZzLXswNNKvn+Uw/Nxqr0sdzXYj31yibrdk6kQQoE/qf\n",
       "5BR1v6JUqKQAJ+AuvangzOwwBLPQjBqUFe5g4wKtbAtL6HKO/uevjoGEIam5b7E1pL1g0ixSPKwD\n",
       "iC0f1AioxJoIIS74BDkjxaFyHClWcc9BjMdc8I0wd4CAARXJnYcboi+qluMAQ1tWv3YxgVUHg9Bn\n",
       "TZ/s2TOOyAyY6EBe7gDYOikV+2srz71T1VkXJu1SggywMEciRpRrFDVqpKr11I4yztcwzYh+6sWO\n",
       "1b1J0qyxrAthWAzIjM898Z+ymlKE7PEp6cy2auapnjOY3hdpvlnrmIDkGBEXIVB/t04apbuYfjPS\n",
       "cwemoe+LTeZC614LPnqsibU66ovm5g3pbMEfP1bfZLVqYSBHoXhU0q2Pmutm774vu6C1Yr2LlIxA\n",
       "nGcNHvWoNUEggeXsMoCqROKG0ruB73kFcRPCyqbFMKz+uZXq0BEpXsu3Lj/fDrHqXOTeCRcCCXgU\n",
       "il5xZGS7yeG+U09skf//cMuUtm5y540FP+z+BTeIttv0j7tLYNq8+3dcuC8XXlM86mVMF8MTXYEw\n",
       "IVy4PscjCGB/e9HNfSaWb6590dq8mpBymloR9azuzoZR2lNOPRE7OjWvB7Q3v63nNsma+bC5Ij5b\n",
       "e/iieVsBYy+OT/4UGwd/O8Dq2lxhBZcW4wE9h5mjJInNydwmglhZnx/4nsnJ3PmhjTZVspRvEZSd\n",
       "ZHZmNtqzmUmb7hz9HNa5Z0d3WTzYeIzNA+YD3c2r+NnkWf0EqT9qSizSXNmmJmL0mpK6y3Rrf4zx\n",
       "SscWFBG6JRbel6obN8PeUGAn2vzohrTj/nGZk1ulLsYplUiGT6q/4EKexv9B+u1QHpOu/RAfVWdV\n",
       "Oh5yqowTpmal/t/SdOK4sxNXXwGTXj1LbfWZoamQdMQwkxEtD5KQBbz1ZcVbhO10iWa0KLLPnz/C\n",
       "3NcOFhNdmGvYBzNZgqWNWzecpShebGayDQyVWTqza7hv084Zx/3kl0fx5QLPoKml6WSD5KmjiYQP\n",
       "W+VDJuovOuLwVOMtpvssYAAeHPI4AzlvApXhJ3IH5CGRmXaaJ0lL/ZWcB7vYFx17b+BMA9oarYDH\n",
       "rDLqNC+LrqBA4v36MtP7iO9ZgRAtQWatcjM7LbgNrzc2ECRcrtjOcHP1lCKMRZ9H8R1guLUcxMaV\n",
       "y1p8bDIt2ogCh5WFVe1Ed70W/+kPw+NDLoULR3lZ/IY8wAuUUk1vfmrtFSfKsV5O7gATfGhyJaOn\n",
       "2wdNgHTGMKTGUfmH+mgcXzXBrEuPx4u/rLMIN63H4Va3r2ayKSVO9lmqkkV/ngZNq+zQpOmnghzV\n",
       "Mre3VjMDplRmpQsIgtEPwsk8eYPin7HKaLeSqvVEdzF9j8Py3XhMfAExKvkzki4f1GGbnTCOaiu5\n",
       "Luoa7M2qNIkHvlNiariGk5ziG4wsX8gf+ftZHMupsCldvkC8R5x2k8uKOjNY9gSXcfvYFcQRc/aU\n",
       "JkF6O7BodNhbGh3UxiP5L9DgeP8fuQfZrPZ6K2rj/RXbsjZ++J6jIt+nsYOqZmdqtH0b97WB09Ll\n",
       "PdgCOX+nPIEmWitadVIsAo273sXSQXHcxjAtiPussVIKCbNxt0vzHOvp0cHlZ3fC392BGPK9t5YQ\n",
       "ifGrSFgqF31dANWltgnywjjeAhbJoBg9+euFyzvoIR/5/ITd8tRJsgkWwkiTpmnUvGGqCCOWuaP2\n",
       "CIAhdnOCnAcOQqqMm94/7iwaOYUXFoPMXA6A3yAFAIEQBouY4JwEsHTpCVPn5C3OfFDMDa0NTtbP\n",
       "gC3ozo/a5LhUxc8bY2PoXnz07Vn8TG8Y5Q+z16Aea58xh2vdd354gWlAuLu5kvnndcKwo+zYKQ9L\n",
       "wXqzetAhstcPBtH6VqCm/5vZJTTg69DdIYfTdVgT1dHnEbKa88c3Clkjq61nKGEVETAPyMYKDzh3\n",
       "YgyUa72iUxqTwrp7hq9NxuZkw9Q6pJrp8BdKsqAFq5a5E8i0VqVO6IqsnNQ2sAHZ98026w80AmPq\n",
       "HYlslzMpO043HP5zySApqoZ4LFm0Rg1xrM19ke9nFCrJcnvLv5uk69RkjMe9c1ahq7xO/CdT2fFk\n",
       "Nhk/tDo4PZ44GJex6mRLlgroAu2nKx4iPdvQw9lnFadtuj5hA4bGlSkLPhN6Tb7NYxJWe3P2Dp9v\n",
       "32gYfzQsxkWgYl3kciGfWzpRHnI0QmL9vlJ295YlTHopbTY4Mko5h4V3fBh6zcBL44RdWZNOhJrN\n",
       "YEQNS9xRBtFrkrgd6m9plg/VLkVHRAT0VQ6QPthLcvoIo54TkUJlbEv5SsmD2OI8BAYOnWibiY38\n",
       "dlkysm8vQOPvw+7482SpReEHrokzIkhNLxQPLKZWFHcyuVXlYqDr3W99P0zRZ2WcRcZvgZHRqRj3\n",
       "oNSWEP6kjK+upKAqMptu2bErAktfmRkZ/7pkZVhtzs96mDHvIqVbtMk2M30/KzgPHrp945sYqINz\n",
       "1uM1IBIHOUXj0JtvQq8nUEQMFb1fCE7DhjSXbPRO4d/c0mYxQ/WG6CeH1auFHkeCydGbCF3r8O4K\n",
       "VZroKIfdx7gqV4wMLRUrY13Ofbk4h9VK0TOR+qqo/MPyIA4vekI245tkCglboBCg1BOgCXeuTi3B\n",
       "INgzAaqhc3c9nkr9bAbRk0Vsx5S7BhmCs4NIoHYNoOccFgs4XZYQFplbyyxfkGlfRyP3IJY92N61\n",
       "/hSf0K7DgomkMyoazZEXfLLQelI+8IhTkSSsn+F0rKmJ2fsifJNkpvtbGxZMPssocCna6tLkdOBB\n",
       "juuG4TMajT5vyVMc65Mx76rpN7YijxniOXlMiZNZETLkpv64x75sODp42ZD/LJizfeOj4gBNr9YK\n",
       "d+g1TEz5w71zcfgFX2xFSRlgoPFT2fyhmkNnRNaQA04aJuU4whM/OnDBpYz+hoXP5pmECqAOelMn\n",
       "ptKYQruVhbfdCaxSZ1b6igkT9Z6I52WdhrPLp8TxG7XDH+ln0cEWbusghYt1KSBB/lz7sJCHdboK\n",
       "d8o4L4B7NsBpgG8Se6/lsVrXIUkEqMjET817WZPZjJZCC4Z1wy1ExwC3zrfWTevvJq+xaNtF0jfT\n",
       "LYVqgvQUtUM8+cOo7kYtezOfB/sQkAPHtBvVdnb05FeAn0jiu1hie0vu/SFb0PHXTWy2B8RjGEci\n",
       "0ExRBT6D2O5zUvzuJeTNk08ymVKBjdpe6LeoBsIcwFqWhoIvg+QjXI4CpdozKkTLQAIGD+SK788G\n",
       "Vj6/l5q/uIgBqtjdC+/OQYw7Q+8WXKW64LXGOAK9Td5EwpvyXtA77zfpcxQ5pFfHPSH+DN3Hwx5D\n",
       "5VMIpTclooQZUf3niLSNI9UOnDV/t6yHsPqelLcT8yn+JOgVnL+83jhFMsWge1xC4onHXzfLmzdW\n",
       "K8h9q8J+5x6Buyq5pfnl4SbsngHEUBKS2/UakoZQyGQKZj++st+td1w7eIV5LMLkb2WjzZMWiW8p\n",
       "VqWy4lunGx2V7G2QQQDw49Dty/IgBzPmA+6j/4SzIg/R4HI8x+zYicn5xtmSRXo/WbuZMElC1rf1\n",
       "sIqY4lTgs/uQeuT7anc4qg+wrGRI2G/Qraep2pXD8ysNzsGCDdeV9Uh82MdheFI9/zEFVWwROUx9\n",
       "nGqZi3CMRgZreIyJZe1saQCePrtlGYs8CBdcz0Lo6pLEcdL5I2CyZwVN59DRu3JZ/CAod3pZwH1U\n",
       "nB9QF5FOfT3P5nzQx01AJRvnNZckfJ9eIwo+bPH1/L+Khb9loIGtYDKvqdlJasF5u/4UltDWnVQG\n",
       "m7SI0TRC3xJhm+XIHNsy0plrCkedHo0uRwlKU2ADnsKoY7/Sg4d8DqR2p6ktbpRZtXAM5HGGN2Z+\n",
       "MIgX/PuiZl07HV+irLGFisEXELMy6FWxGHkRI4J4tATNG6R8tinyanQnHxN92GrTsuB/G2R08qMZ\n",
       "DXmErvYYPzi4+KM8S+n1JMQ6UbCLdT1n4VYmsICf04RUaZIYYQ/3gZ5Ti6ROZDlAdGWEmChaNK8W\n",
       "NHoEis7kVlsc+iCWDX+1nfHlVR0/k61K/10KTOKaRALpXWtuZNcDYtlFQp1Rxuw3LcOVmoBw4kjf\n",
       "dT6d+Hgq/7R3vstU1j+reXqWQpqAAH6O33XW9KazbSo0ql+IUoBjRUAln2rUgm+WvQipPCN1kzQQ\n",
       "cpGH44RXms/xaugODZ14Zm6bFuooCPLTV7a1FsdeHqYJDorUgzCubVSa1TtsnrCHuabYmAxjE51m\n",
       "aQ9or1fh16Dn9fenY7zEWcb1J6ur9FwC2tBWWpMmTYKw6OgN0poZZaL1QTXsJDJa01wMtl8a2UuN\n",
       "2zP1wRJfGa4ETEW0XUErpv0jsxCuQzxwC7/G/ompgWkERKrCV2RAdmTCpP84uzubBOXaEGS8pZ4d\n",
       "Yt0/5AYtUi/nEAg3cb3xuuZTbhcXa1RLtr69nJL6sTXuCmLgkUgyvdpgb/PP5f/2GJi2UmjD4ef5\n",
       "Zbv78cHCzYhGmefvgnzYBMnEuXW7Mrnl1VtE8frKrqHiMGyrNOveMrZo6AmdTJmUa0kKUBElg0sp\n",
       "lsVZcx6uKBlE/DIfaGjVYF49LzL8ulm9dEnVsw479zUF0sBv5PWACn+hNTQJ1p9kZMv5ChSLJFvs\n",
       "tNLqxztid2kNcZgg750lKTMuQi/LB2IGKAdlLV6sQItbC2oZf/bqxA0ycbvflOtNeennF4YAeP7u\n",
       "VBbEW9JsVEnvP/KU33/U8nPeqr8QZoN7AySLH8BAVI5ApUPNG6igkjwaA2vIBiHd+pVZMiDPt4Eq\n",
       "yvtyrgwGRmZONd9mzd2YD+Rs5twnOCtN0b603jlpK191elI7tZg9KSB0Nr5lAvoIR7CcYMEhMvzA\n",
       "yvtT6YsjL5WZSHGqsP/75u+ASLsQkVON35R5QFSDxs4QMo5LvZwW8Er0xAVVFwA/wuWeFVONkdnA\n",
       "XvZJggantG4mW3Gk78RPvHLEgKghUMSQgTe6hLTAtwD8/n8g/1Gd3KaU5fLpACAacJ7b6rOawMvX\n",
       "hZAc3Hq+IlFfFwD+UQmzFdQ0eoTW3OAZDbZcigYdf6HovfaXznQBQyXLtTqfCQuzxX3/GcaXq3Xn\n",
       "T7Gp5HR7JbOunnIBi/Wpe9fxV7H0qfven1IgZHhIUZFCjKIOPthVl5gkaXgFIAsR5MVFiwmqAoba\n",
       "2Z8pjA8kP+CZtNYaGouj7cU4/m/frPX1SMvrR3HqtROvTRHO+4ZI6XA5xxCXUrGTRQKYyIW2J6JC\n",
       "FdeHrV9r2ejBX5tf411HmABsSYGFNDF6m+vAW8+M7I7mkIbkfnLC5b7ggoCr1jz2RT1jCZ18OLto\n",
       "vqj2I9QLiW0Cj5C2w2WJ0v/Ud19M5clXNoUOMI9q3ZszKS813Czo6NX0ci3nyTFWqJzTBA//2+Dt\n",
       "2iKIV3wWilbCNOuDicPRdVrIkxHQgSyqe/iZCB4W/Aj0CjDxnJW0G3NZHLDdLKIxiR5icnbnCN3a\n",
       "z9Nl2b09i3fkZjnK5sZcsHkZN2/PuRcmiKmwxABppbtdp2xj4V7INA9IVhjX7ItA2/z3uqZnj84d\n",
       "aKxE9Z/29t5urF0VsoHllNZAzMjqTP9yWEPEkym9r9y1YpAsAUTMz4a0/e3XAm7x0zfG84thZYsC\n",
       "3D1FTbHTGZHkd6UtVCsPiDaHuDOtWwJELKkASiGaaNfc9rWsoT5yInQFEmwMZF0BzLr80/Zn/2Bn\n",
       "OaxueDYLy04R+L7780b9/f9LAyH/b23ZszMtH+9Wt0bQBPI+Tb8qmP5djBsAAAMBLQA5YQAAA8dB\n",
       "miFsQS/+tSqADPZh24DAzkg8ImmvPveRUW/ru+3u6V1sQAedJ3FSSa972JfdX/3HNixV5u0q8x8U\n",
       "AmyiLjWDbzNW+PJFMeDc0bGiGyVw139/SImN+fDwG97LP4nc+SFbxkikR1FEGLe9aX3qG8YtV9lR\n",
       "vrTCVsB/iCWNOey6Y1pcZYLcEaMLJkJwP+ryFTEpnzojP2jnzUb66pT27GjxdHGuQt/jWN+xHyIk\n",
       "yaE+8fJZmC0XL7VeX7bU7L94PL13UsZhaJTtKDSuEk9DnX4WH1HqOKQ6llQE8UuGPiMgmHOdaQKB\n",
       "FmCqnw6bX2hGbX73iteg/MFindsOvlz1qowFWNZQEQK6XvbvsO2jjaEPJi3XJ//eimhwRDItQR3W\n",
       "Mwl4iRGDAyMOCS/PMP+8TbyA6bjtk1i2M7Hu2V/kB/WhwaxfbKuoPwJgz70nVZ+ob5RU5ahF0ioI\n",
       "ZFDMQHRncJ2Wsto4x0S8J1LpNWAFMo9M1UACbaFERQtN2f0p3ccOmp9CKkY6NUMuk3u1NV8y0vJb\n",
       "3A76keAlMzdxany6exE9T2hTP4fr9cG5qt6+A5EVFB80IT4ZbX2AQrUqATFwgtH6ihswfqfVV8YZ\n",
       "xyGQg4zurFvgS+8Wt8k8C+S5p2ozGdM8lZkI5j/HzISgI6pR9M5IzLoAVQRSYu7B8PMx1FK2A+Kp\n",
       "5f+i7w6GoGCVr8t5KGGVIoXtzWYyk/JGx9YJpnHlNkM7RPy+UxS81/ye2ZqpQyi8sdRFZZHqtjuJ\n",
       "88J/mS7f/GceDtHppr5Qv96sXtzCi2OVd0eoZk+U+kwnOGg/6iZskSg/Rs1l+d8/qf2E4Y5gjM/0\n",
       "zuEwwCwWynXRBJVqw+fXqfNRx1lYyGRnY3A40FmJXKjnFqERT5CmndjSbSLz3qGKC7feTOqMg6FT\n",
       "T5g/pYAKtxgzM9qMQ/Fjagos7hzIQO/xIFRi0NVApc7OVC52fdNJQLmJ3q5zo+x4dayQ94+Hgm8f\n",
       "hBj9rrrrXQy3AbPEXsZ7IlIlKAMzLlT3cRVsObLrGBBPjZEaRJenBjUL03ky7R3MP3k4KiShZsYx\n",
       "mgL0aDNwfpT2Cdl5G3Xq1o274mItz9rQmXxHpgD/gJwdsPmX02jiXV/IkD+vGxLFzEHQF2vFIeaY\n",
       "+VJIRZBPBZivoj3wGb49Z+2IreZPmrT2lA4tmVGPmw6DIdoZPYJ4qy5aBfLZbX4ET7AAji1F5pfG\n",
       "IMk6qkyavkgE7Hk0/36wF6zbj9o95ZnGBMKVyN3sYGClgz9L2Yv522bzRKcJVwN3fVt7LLVUAAAC\n",
       "kUGaQjwhkymEE//+tSqAADZTdHiekN00AEzjl4EKFRqaDAmdat9pvrmN/0zg7BBS9xNA9M/AxW6i\n",
       "udAt5KCxYgErWXgNNxepufTZS4uVEL2xyIG2IagCLClCjaZB0VTc85yE2WW6POvD8k8A8j70P5Xa\n",
       "c6G+gioyd1rhk5cGVgnLkh0Km3m8HD7X4ylbBqy7OI+LX9kmkq5CjYGq4DJ9qxZcFyDg2PrwdgQM\n",
       "ciFRoj1uLIrJYAS6xem5lVnBT03cIq8sv6K+aY9zLl3NadydN4WjBMYO7Dgcp0E47aYxq2qvZWgn\n",
       "lJIIOGFGMh06lC4OFnO+9xMGQ8Ec96BTNfSQS+PpkMRgahW65UvGnKkwa0ucVCnkZEtf8P4fEw6S\n",
       "eMJihi1i+MwvtHFptO296L2KgvfRZ1Lni3nRhctPIa2glreoc2u5jv4iQn13uIvKcHP1SPbNxq3m\n",
       "yEOD1bxdI7DA8VJZ6bzqer3r66X6ur0iiy5GB14lCbNc3H8UmnsM/7P/SFFhH9OvPHeR2oIYpL75\n",
       "GJIlmIKvALZ0wAZT36QnMA8HyHQvGBmnqhbZ/TtWMqt/jYk6aJ3MOjObcDT+WDULss2f1NhWxmAn\n",
       "vbDytaj2DzAXzGdpL1VTfFgr6OkLsrnfA3fio2anVA8c6l8jdqkDfTnzzAEwrAlBAnuvJOwGfJSx\n",
       "yddoKjo/R23KY2CWsAAJeRiVfUn94y9NJa8xFj82YPlZXQfp8z3nddOhLQQMDpZQq2dpO0qaWc9J\n",
       "f6wYdryqKsLt7gqjftjiQsbcYUD4rpsfPA/4dMJ47vyl+iwu/SC523UdOJggARIIh2v+aOx18NLE\n",
       "uDGeQvixfAdMB4sIfdIj4Fd9DdcESG8wDwWZs2aJ3wAAAoxBmmRJ4Q8mUwU8E//+tSqAAGK5olg5\n",
       "ziBhmLgAVDudJXIcVfZBOorJGT0IL1Dx/KMBo/bbNPKvvOIPdpiDf3wbrcfxfv2GOI8SY+DeQDYd\n",
       "E4zGqvSI88xpbucN5v2hv6m9T05n4YqJcnExCcANbRwPM0T0onrnQydD07z82/IRMN+z8V+NPs/9\n",
       "uSBnHh9ZEwRjy53u4aMrGl1bbwMr4zk8fESZ4fugqgwpBdQ01nOhqeoNS6LIZqMzB6DyqjYMZT/5\n",
       "nEEDBc+0EZpSlt6cD01AaNhW0PCzbLlW1+M+r/SgmS0LPejS0E5CZJ0AtviKCqKRYI2x6fEIPEX0\n",
       "wc4wZyd4gGxevBCmBMn/OfZtSs2qazJEwHadZscxQe4ysOtSH3ewVvrPIDoT8iJa88FvD/f+hwC+\n",
       "wnkKm8uU4XDkPtl+Co7rezyP80rUnwucF0utpbF/0u12dnyrJjvxohc8ve5Ojmz5VTDGNLiwK/38\n",
       "Ajgg371tjWPNh/bT1jhfIcMjooWb/6+rECmNa/I1QCgdhZred1U8b2aoE/itZr4LCyD0e+U260+E\n",
       "BQry2DxNRwqEQQC7p5uy/34L240X0MKDbUoEasmLooowSBxHllrFrHVIxNf2LRkaO44ZdRDRUIFW\n",
       "LILW6+gf2FyFwGgCIQ2o6FZJXc4kR7+wXXXOTojnb1q8MUsIgVfsP8V1TqIWvpEhPLFIrxMhz9Jy\n",
       "ObW+dlxJWT9AZwEG7lUVPkzUNk+N5zcIHO1sstLc34GLf9dLV1KtO4hUEfzOxzJ0Dw2hRkQyfi+g\n",
       "mHphnSh9EWSbcg0VwAGaemlSV4tmZa0ogmwjhb1TC94vWXKQJwpT3XodF2BEwxEJgfyRNR3fIIn2\n",
       "8hY/AAAA6QGeg2pD/wABDYNaaRB+YAWyzDRRPQPTi+2qrlsEsOHg5CNnJwN1jQYxFfwSvqSzgFWQ\n",
       "sqZ/wQvabY7W+QUwaM6TcVI2KQn8xN7+gDhWOGvwONnwusuwpSjb08SED34JQQXF+ogk82opgenQ\n",
       "FXjwNzmalxt/HIIsQHXjlOZMzk6M4X/nsEQhf/JS8vbAJ/HdJn2MqnPJ3AHKnTKGPvR5UV2XmtGL\n",
       "DJlp9h7A0Wj6pK5KvbzUZy6tS1kYNu5mLV8x+y2iQ0ci9cE6ydvXYn1PZlmR25f+HttRkiehEbQs\n",
       "XMgjrj5JUMRtKF/VAAACbUGahknhDyZTBTwT//61KoAArvE/8K4RIAOOpNMKythXsspW3E2dL2Zv\n",
       "K14dCgAlLrIl5+E6h+xskvC/MZG35k0SbAA+E5hb4OZudqXVGjQuHIr6UwACu2lJXPx51E33n9Op\n",
       "heI2xd48M0jgTVsx1RYmmSdQNMuPu3iBiOUI2K1/kr4VLcKP7BsKo5twPRhxxczXiBSf271wrXzt\n",
       "NkNtDanwyGn9kQV+wpq8bix3gAiec8h+/aponX1uIHfafIWsh0ngD0e/SeZrxFLQcfiOzJAMg01N\n",
       "wBVi1Ve5pkmCv3UPXFpPQsmdyy/D4hI95D9NbqUdtVKrhWrNLOmXAu+HZqWrJbnIgh0xEKverHUg\n",
       "roaqVrQ0cx5PHBVbfwY1+QzM3X7q7vy5i7M0uRbAxQaVCZZidFJoLbzz6FmfL3aI6Wm1iktb+KUW\n",
       "A/UeEUB0FryzKsA5H/xNDZLM5PzTyu72dyRAYSSrUF53shBXn1sNsgp4Z5TrYRzL4wxyrO/saDFN\n",
       "vNapU4filaTmcmKDm3JCJpS0f8tbA8v0vV8VFcGDAMxoSXKASXRQ/Aqnp7chOUeUE+PXsG05oNm1\n",
       "GtiaQ+1T/LzxdMKcodFllAN29W682s/WRwIRckj1XBxNrCPZPD6W2Q8+eHZNy/Qc737OegQn6pas\n",
       "0SKvATboYFrG7aHwUSoNfA1YvPYwutx+koAAFC5A0/irX+Xts7Arz9IRjPT7UZ2l2hrSHB7zysRN\n",
       "dTWQp0TNjrWUa3Xj6WdQZLFurRYdYG6T5CjUhTMUgPW3Ep9BGg0vdNLC53hTeGkOQKae4wBTAGQa\n",
       "XPOoh6w+yq2yQQAAAOIBnqVqQ/8AAdrshoRj6CS3UH8z2+cS47yQAXTCzgcb2BF9ReYLyty9XIsl\n",
       "4GwbzV1faNnz1UH1KVSZ/v5PFeXV2AskRobVNSgfZglOnTB01e/1Vg10EPv5IKi4RDJMa1ryUXSH\n",
       "kShQqI/6qoo2dsR/4N5+FEPOCHlowKzItiEna9e9dPgUr7TqjkRtICHntG0+6tUq3iTOxF+I3HZb\n",
       "GF0RIo+1P64+XvC+lmN6DyHpbvwm8kYLQOxCL9QtqaMInlvkq2kUYN2UYSsF7dnGs/1VNSbsC7J8\n",
       "/zFP1j2yLcPu0Ej5AAAC6kGaqknhDyZTAgn//rUqgAE5/tIyaq97JhwL7o+JOmg1cWFRcA/tud4C\n",
       "9yBktDnz50snGPgbanvUUOY5FbGEUvE/fOc1E7cHUEc9IwihMLsSbm5Qbdh0//UJgJ584cYQ1Hae\n",
       "DzT2EEyZ1OPr9jhmKASf0MkHalzthiPN/DIbjHP0TZUABIzRBqL7+x2Ms3YS05kQfMenpMWSBZMD\n",
       "2jDsPT37hjoY5T8ctrg4A/ivsHYHg+lDC0MizvJLYfI/F/ji9Qe/pwrl3xbjbJJUVOncVPgW6htj\n",
       "f9zNxO51KfAhUJtfheBpkvlzWIU5quJyvt60+RusDzLE7+oF3nC4oROV1UUzRJAw1YgKJ/8M25I5\n",
       "x0pj+T13vnuU8nBaevvPifR2tFDZHzjkQeIIeSlly2rnSR6oBI2/RSx0j1gSVOGoA++D44qTeJnW\n",
       "RzI/+/5XpAyA42eZ1Wy0AYC//XxU9Gj+oNDdMVFJ86KZzv2VgnfMyOigPfW0oYOh5CDfTJvf6T+/\n",
       "bJiW68cB1n5EY/sktUNhS18um3Bf8gxi06QIeWdAJIai2Nopu++MyRMdmDx31oDuhypBhYzBJ9Yq\n",
       "N23+udxXq8/r3fubZ87w+jU/+n4AEJ2laif8CKablzs4MUZAjoAgrDGOrMU3G+Qt6IUK2o++fPXh\n",
       "LrbtLcDDBxOMOPKUOsQr0mmpTPwZyCLwaDes2OBKz8RM956eJVvjqMjABro5l9/Gdelu5HejC5cX\n",
       "1gdP/P6IwEhJAP6Pi9aCUexOo1mE7zvfgmbrndSldc7X2oFW+VbC2IHMJNZcR3AahCHbnIEQ+oLo\n",
       "dTfgXE2KRZyBzAwjRBzC25RHgu1iKW/wCpWlmXStRYQs4CN1XLUnDsjb+HsUb2Pl8y1KB+hoxUsV\n",
       "BuzUx9S3n0rJYY/nPE6pWoLyg39phjZQZHhdIVwH0IsOtsLNfbi1o9dodHQTGj5qeZpYVli6M//Y\n",
       "OWJgpy/NqN3y+Ygj05KOpVVKU9LxAAABe0GeyEURPBD/AADcy3k0IAAuotIKj/t5vxXGCJJXSpqA\n",
       "FU+hTOO8gdMaRVW1u9gTM74v2jJivJeoZphXMvsajxDqitMT2w0AaKY8SqN9cDLKwW0kq7KPhPK+\n",
       "P7m415iqm93J9ozcsZGzXVJRcBQBErX23LWSuOrOjy8R26vUtGwDA2123ERjwFTYOiWPkUxJkgYQ\n",
       "abCp6skIiLMCa29lSlGITmbBzY8W3I2fCWnm/fA2wyNvBPtaOFk7QHZIW+p4zZYPGoj2FuNAUB1g\n",
       "WfUtYPG+qr/liHGSHCd/LlEIHWM+fmpMGn5opdf7ZWJeolYJmu1YAAiLPhwfSN5fwWcwwY7yK6Ft\n",
       "uNXWm04MQgndFVT8cAChybRnjbHoHfT9dKSTlfdb4nOMdeJR9rbORiDv4zD3udITSpuiJ+LzJqAj\n",
       "PXRn7D5e2oKPnti3TXikNCN8WoR9Hy4/D8CbA2jx2TZZCaKEMNfE77yGkA2kltWTVssJSOmgxONr\n",
       "TeyEfSAAAADVAZ7ndEP/AAHl/NL9WbQAlmFnA6zHN8b6Arg7GLs84Lgv1qYR2ZvhZ85awL416bKJ\n",
       "tSSMTwljWD25OEg9Hr6QW4WM6RSh1rp5M/kOchIzN9bY5rvm1Bs8/uoY7PnJ+sn+4KvKAC1v4xBd\n",
       "Bd/Uv7kakUcVV1ft+Yth5HMnaS6hYWwGkFzLW6/coORSUa6TQiRIjBWWaSVbkj9IlXq/3HdBFs3Q\n",
       "3Py46JIh23IxORg2q6x9OUkRI/KFW71xp196K1Dmo/luMyAUuJASFlMHl90LTluvLW2YAAABXQGe\n",
       "6WpD/wAB5RYsEqAAlVV9GgoDCb327mz0Xm8eyT67WbPjn2xkta+ALUZnn4zwnfYZnHqCq9W+jVMU\n",
       "KvIK316Nk3Ljx+SyOOh5N6JDXbfON0I7RytS+2IsPF/jSLsaZcqj/84pb/2UZSPD/SUClfEl856V\n",
       "HHOondg78PB6lhYg78Km+Mjk9d5DJgcxCrIOyw6DAer2besJ/ECTiWgAqRXY1c8A/kqfkHy/MwX8\n",
       "QXVefgjL7t+e0kieNy7jxoZbPz9UYaqGUOiC4hKp5K7ML/BUtzGw1mwwukrJlR+A6IABhd3ngrbZ\n",
       "uldScWCiAHV+oXUJpehc6nYZ+GiLhlTwowiccK1jqf4PJtwzDi9pz55vtWc//Yi4Lm6poPURoyMK\n",
       "doRiP3H4mPL3gqE7agYYBT7njWjuWZXTC2UGayW+VZK+oj5FtaJfYoSxoJqt2qTE1kZ6m/VUKqHK\n",
       "fMBbmBEAAAKlQZrrSahBaJlMCCf//rUqgAE4ej76RADjTxOGOE66yDCFNUwHMH0p05dytceScIjT\n",
       "ZmLpo/eUnvc6K50qwF6b1sP637EYs+487TMZBhDHf7b0xHUvDaCc2Jqp7PMn9WzaIrZa5TtTquJK\n",
       "eRKHG5GTTb09vMwCBGNFYngziYbqoKjflvYw9NU7Fb4kUqEJXX/1AW2W+2kYhxtMazYsGRsvfw8n\n",
       "Jqdd/BnrvQPe4wJA69oyLUeW3VWBoKlFVwYyUYn0Lv4is3tobVFoocv04ZnBjx7P3sNEQ3aZS6FO\n",
       "lf4tSgD1KeaTaF9UOq37uk7MQpzfun0yc38wuiPRUY4MJsPJpdK7HRqtTGZrmhPpwSSKSI76XCPO\n",
       "r/gUJkfIsddbCe9yeCTWwEZfegCL8GTjAYHqvtXdJyBj+AQjyq7x89VJM/jzFSNf6JQuSQIBbV9R\n",
       "A2cI+BuCjMNg3MsMtiZ/aOF8BqB2K9ct4boz3k8FIJzI7iFGJANW3JYKw5hAKUfr4QYRPFtp3rP8\n",
       "l7M55zU6rbEhUSEFvuOicsuo2ZLA884nuqvtcxclIsn4F/urzf6ZBW1uBZyAmY1byvS2POrympZD\n",
       "DDD1fPyGWF1YZe8vvR8PjZNMoZdsjDaB4EKWj2gDdCOGDNrazApChbQnazv0uQXi/7t5p3V0cc4X\n",
       "gxZYnBoQ668/PeZmbYlzwXEXFgi4z/ucjVqa9bcWBLqb3J+cz74CL+fI8odBk0/vBRLUZEpACR2+\n",
       "4lYWVwdN2np6P4O7lUiq3HMa4nDGmKzCvvNBBklfMy8fhbVaXQiX+lHzbIgL2GjDLAZCKxygsmk0\n",
       "RT2WsESX2uomVJ1suCi5cYpRDngq5xjQVVh01dLNJzdNalLF8bqCsvts5yYhtF22Yk6qIndJ9O3w\n",
       "gfAAAALwQZsNSeEKUmUwURLBT/7WjLAAUslY1q4ApKOVsLWvzJVAg8U8X+srBz1XxiTtYgfvrzKU\n",
       "2C8IUp2HphB+2Mk1RG34oRGnQlMiH9zQE3EuGQpvJejjf+X7kCbrRrzB10gfiiyJ2wgagrlEu46S\n",
       "8FwBIq0bWGjMSrstBfBtC8CWaksrJjm+AZHQN1o3pMZRdYGjK4swBI7I5NpHMPhtc/o7Mp93C18q\n",
       "M6InERp7yez0NN/MDP5M9b8Y4XQqc+TgDUXKlnAEEnVjUAA5Ta0m+gXK8I9sBz2GT6D8i6x2IKRl\n",
       "rHwp5bHnE98Y/U5Pw4xarCzg6/j7FmdRbbQ++Pbb/4iEU1OgrVDRa8hCKAKsKqzbEw9FOaKk4ztp\n",
       "d9aZQgywp55Fnh5w25jRPgFnsNjMi//PKcPuGNHSWfCXdaenXN/VE802BKAZyXGk6hEznWPj7ugl\n",
       "eG8WKAlVAHs2Eiy/TiIUjymrcSWRdjfuUgNocoW/YOBo/tPtQwOL51Whxg0jo9YoNWdXuAk0f/em\n",
       "HVz1VLIpj/PEAuuuyli/rjAKdPtD1wZM9kaS34XkMefN7bsxPquYQLgBKeYeb/eQ/7GB+c8diPto\n",
       "ZAAVeNQFXQZYReqH+tXw/hNVGalyDl65faNHN687xQ7kVASm+duxSyZjV+V+pYHAdcC4OhPdimvS\n",
       "D7fCCnImCbPl3TQSh2thH/1BfyBsQzzF3j7pG7uyFQl8/OvNxLOV1yoZTgm6aV0x0fNy+ZjEjFXI\n",
       "4DGduiecXVMbtkF3+8eX3GPKbffynnc9xanQfnZyT2sK9/u15R7qmtV5h7eSk/6Dj540npq/FGyu\n",
       "auR1/NaUQ52TWAwaFbl87bzS2uaHqRsF8ENWHp6nMS32eKhqO8yYX9F0Qa4O1tY/qG4bXZK3sggB\n",
       "OU/+DmCEDdmkWDjP9HjFWcMTw06/ADOb43kkr2DHoUXKUOiYBw6Wbfxh18UgFsXFFJlk6Mrh6DNJ\n",
       "oFSY9+2QnjACSw/DaJejlEAAAAFGAZ8sakP/AANz45w5fZ0AJTpyLfzU+9yDlm6H/STz55vSA5mL\n",
       "pqLNkmZjhwyQC4+uiubeQXgfKUVdQ++N7bIIap6CDbhfG+q9MzuOlJQfbiwsJfP3e2OotbGUkMMx\n",
       "TCPDmNsjjPF5amMlbQDOCpxiI0myqrCc72Tc7glxGA5Pz+X+FjRojG8pibvWrNUw10NCAPkm3tUH\n",
       "Vg2fvJAHuHDCSWADGuhmmmDmyOJTOfoPIiCTeoRy3uiFKHZFSXs5Cf+Q6SWIoyrABT1TbAuXOp53\n",
       "ZwUbFrZ8thh9njYj8p9hONgk3Kp9Hi4JMapIAijebPVU0fFLPcWVtx3RNWVbd82C7rCL9T22w2mz\n",
       "5S0Y7V+XVI0RaGuVcIGF6wTDns8WlQX9IAC6IXvDN30rq8uWn41UwYzuhcX2sacW/LSC+e5v+Clh\n",
       "/9F/e5MAAAMLQZsxSeEOiZTAgp/+1oywAFKJrHqFjEABarcHvgEhJbiAeMuX3MDXQaWImQwoIM7+\n",
       "YlhgXbJAJ7Ki5P/rw7WsZrlcNAdGYYpuHZu3PQHLaB9r89yIt5dGl5TCAylv+f8Xv8Yp3cTo5goV\n",
       "FffLc48oV6bxDcqNFl49AiIltD/9wTUZdFHJu35G/AIhoUktzNyNV+l4b+tTW/nyUrFn4ilC4Mgx\n",
       "mzHdwsgnStS7iZOMGehV9oK6z8Gpl5MX15jLWHv4qQtLO6pcw57oYORxEgM6KAtjaArIn/4Yw7ut\n",
       "uaUFF11URM99Dui6smGQi1WPxyqEUorSR0YFfh6O5t7tJDhg70epY+5CiCnQDXyNq1uYVJtT6S+k\n",
       "FDsqzsyGSQOcB55YANeYy0f9rYC20kHrAiz3eqDEvcKx46YnwUMoe9XX6m8bVcs2Wxion9BrbAiw\n",
       "y1blhAlbf/1+gNaeBtImLoAR50f83R/y6uqVjrJAy/MytqcfL8AJCDYSnvpXySmgRF6bj1mQfuZa\n",
       "DDSX6c9CSSlNEh/p6ZYTsxzzpQJ5In3VF/VyHz40PBGL/cj+tLiU1OPhoVwvjyGmxR18S70pKB0Z\n",
       "NXVkVu4ZCO5PSBI9x6pncCYo8deZv8CmvwhmTntoxBGGj7KtGQJ3UB2aJ/HSX6JBo8vbrNc22Oh8\n",
       "JxBKRGXj4mjcR41YRaaz35BlR/LPyNL7S6/EAy189Avw072ImPXHdNOLABzRuf9UIa88Oq28JwwY\n",
       "s6/vhgiRFd2YuRqtBlUZzgAcvgdARkHcjM/cCkdGHjfrf4QDpRKnS5MDm3V405xKKX09363RJ42Y\n",
       "LsZxlRfB+zzs66BNlv8uAtu2jzVnpsMWkwf9ue8SQNFw4rRhFYqqQPyeJdyTc2jN/v/WCz0vESzU\n",
       "Q9P6pW0X1WlgpB1ffIveoBDlqUzMsJ8lcECy03TgFlmYsmawUKGZ6tCAQ65cm1OckFETIp+FDkdC\n",
       "vh/OfXzKKzJwmvRUWXFh+IR1UGCi7H2ALhqX+WadgdCwGscLRKYiqw8fqs5qSEkAAAFmQZ9PRRU8\n",
       "EP8AAZDYG3GG1KmqAC6rYimHDr99LzufIx9gg87LoVfRPUIYg3kf+LKE7um4GHMa6VlWIwFh9Oyl\n",
       "JHqiHiPzS7y4yiiptaIixsFQm2s1H4D7jsdKldjzjFGvSxqSvPitN+KTNb1LessQlAQPecS/yLzF\n",
       "sYrmZ8ez+CUkjRcRMqFxRLpjigh50k5juHGsAiYkOQVWUAM7VPt3Z6LYOKAtiPduyXLP6JPK9KTw\n",
       "ttMOy6o+vzq4GyYJ8LiHQkPLSMgSA5sgnrCJvtSkOwfVej6UGh8tUUjoSp/aGEGGp4y/1EGYCnks\n",
       "mKEYIhJU487SJty5CQHAdxW7NcEMnGC9RgmPMcJ29c0j1geEd1Yr5ZMiEiEPVnh8/p7wlvRJkIkc\n",
       "qvOfo08C4wgD1Vyt6MVTRwvU5MSwv0+7MKwHoCc3y9g8LYFt1RgKMWQ0MH+Pc/3FfoyPhc+rY2Kj\n",
       "VVtfvXSYhKIzQQAAAQQBn250Q/8AA3MQ0N09IAbsE6EqyoW9Ekk5iT68Z5NgVDk66uzZQrJ1+reR\n",
       "s24UByT58ga2PHu74tQgHHz0XmjXuv5ZlFFrdu+cBSERk4gweeyWAyZPmnftWhWmNbrRBVkFEb0t\n",
       "DkSi8Fo2xB49c4ZNLfLF5FnLiEQ9P36fMstC2njoU6Baj2mxJSzTU1PLI8szRf/c580bSA1eH4HR\n",
       "rNSI4uheW7xGidILWS1g5xGnsk1B+Rk7bmv4knX/a9tN5jEsmCbXuhplgSXl9w2pRx7goEfy9hAa\n",
       "VHLDH9SEV/4Ewk/+cESvnBOht1gAfxag76y7Rl7G3tvZ3RslbIm9t4/9R3HASwAAAPgBn3BqQ/8A\n",
       "A3PBczqAKKUvVM4ZydpUmm0iWUs8jH7qdsHxX6wXDKPIQYIA4qqgXBgAQJKOlNkT20OpizZPCc9L\n",
       "o6+5AEe/2H/gg9pRQVK2krPvDHCjnYTWCQgpn24dQkKvktyeL/37ZxHIIKGNm6+3ukBCUFiVEBxV\n",
       "TQkQJG5jcOQJHd7obxCf8Og4KItTUCYtEOccYWDY/SgGNzceS3mh0UugcVOFJ4/vnmScckoSSLpn\n",
       "U/cPAksQv5wlyqtXf4QHWeTIN1H2jrV2jFQ2eQIiOADZ2FloEv2AncyslGrgTFMKoIyvIOTUtv5W\n",
       "iy6BKozREjwBdarrRAAAA7JBm3VJqEFomUwIJ//+tSqAAkPNX8E6Y7c7wVuI99Q/QfUiLKDmMhha\n",
       "WVt6aLmBOAN/yGAgCQ9GS1Xyafz2WvHoie/QGtdYgT3v8imNqc5B5s9U34nMrTZMd/0ikHTnKL5x\n",
       "SehiExQlCuCxQJeZxCw9oO7fCjsBf5qbHJf1xeRc0dPVk7Sw2AT/gwVpmCFWpbq1XP1XPvDII+vc\n",
       "8nsDaHr1/4ivdg2Rgwza7n4x+O/YvGx0g+Sf4CU7PxrNTafdmV5jCNzFCvp96HnYumnKpyFrEgju\n",
       "EUp8Bcl5LbTK1JTJyTcllfuab/NvPG5dHKbTuUzCgF1RdSiYrMXMyy9vwBtQo0CjAJF7CmdA0TrL\n",
       "jbL9TeyUwZSiGKnkcZzanRzsh5ZEyetgiz+PjwjIxoAujC9TLi9G/ShVMi73apdmz9OQAwUeaEpl\n",
       "1Cp0D7uI4LuPCd+7+kS3c7QKyz5j6QNjk+2CTsM/ZOLIS9H+0aB/skOHMgQ/kxhcKsSq7DPpB7IM\n",
       "720+mRR2WUPHQElwFQXxLIj0CE9sL2o1xsVDZmhzswBbNZPYXXjYi659GQoquUZScZSQ2JAWyS+K\n",
       "jI9TNOtcCXaYFI4OBQbWvT27g1FQ5BtckKZ8GCOPhHF5VbdP8yxPgljpx66AJrf8Mnu3gtltHZXY\n",
       "Zo9ADOL6mJeO4biB7IQ7ehYK0g5OQPwp9JmhPw2NK+F1+MChkSLa3NA7+Fano7BcUwJd8ZhYt012\n",
       "MMs927OLyf/3D+6PwapL1LktLLaW1TFKkch818ytkUNcmqAEY+wt3DrkpT0C/1q+jR++WRXbS1Md\n",
       "HN2iew3n2Q6BVxQgV9mD8mru5HOszB+te0nWYbWdxdIswaPou4R68GGOycBAPdlQnVOxUhWAb/gB\n",
       "znmvAR1ZmhflBwW8W5okxYdJuvc3rXO+PV9bSjDBYL01gjrTyH2vi9ylNm6PhfOQe2EsnMD3PvQH\n",
       "sAsJyjIVARN0QvaZ49JTcqkhUX+szpupMX/lfpHvN05q23tPgXk9Kf/QN0GDecrPbH6RrHDtleqQ\n",
       "5fbsrHeB0HTGVfxh7VGpehwXh4jDEbbVZ5TjSoqMy9UBYfXZgkPQDZd950mMD7J1hB3ERxNMFlF7\n",
       "A4MfPOZczEQ5TfLNMHsgzRt1NVTtmNbNwkJsgda7LA/HrlOFobsANdy+Sfhkqv4yteVTkciAkmWq\n",
       "BXldi5ydB8wneDEJG3rnGfWF0hKGSqCv6bP/xjHYsanl2gAXYa/mKwbRD1c7UQKUQ22BAAABlUGf\n",
       "k0URLBD/AALWLs/yLvrlPgAfnXmFLZ5LLqCByLh6342VMSTIPIQBU2tlnqSLa4svLFqnbRSDKsMg\n",
       "/P9CvSZT7l6COlF5Uz7725hmTfb66XCPpV8yd0ir6/MR8czz3ituM8b5i+Uigl39R0S5M3os3tin\n",
       "6qUd0/cOzgHFguTG8sPcNCz7elhpN7H5VTVKsd2H70UEVcbT2UDlyh1YXGegy3mSwpA2f+7yoGoX\n",
       "2fb4uaSstcFcNIS9A9sqAaEYRFxIzQTYGBbYr/rwekZZxHm0Zk3CfOSD9t6S08OuNjibRwPe63Hw\n",
       "xJg11Bgf7g1uR3C1/5Q4pLIiCM1R8ict/2d2kAliCprQTKF6pYs38u3nnC1ktw/iKgse/OjNZnaE\n",
       "0aHhz9BEr2H0AJNJOJ7kSppD8yH0rGzb6BV7bzJXD4t9kAJe+Cm/uHQGc9TzIHneJMj7FWX0O107\n",
       "hvP3v7ZPxAwEUfH+JqeMgv91MPNZPWXlRUbq3L4g+v466mladiQEb9/lg2B9GMGb1c1F0D05smz+\n",
       "OxtswAAAAVABn7J0Q/8ABiAJ5kAJq+FosAvwhlsE+2R/xpGMO1SxqY0NXpk4bfhylogRDzQpJqmm\n",
       "FH2eHODHBs0p2muDebijmjxEIw2PBTMFsrieOFSX1vg1ezyZ0gkmVGFAH+bVW4/9MMfLq8YJZGs4\n",
       "RRasxpwuldbFT4aTcqgON3xgV3fz2htIz5bosjszSzcFq1LgnYP0fKvYIrKGj+BVK9I7VY9DCMbO\n",
       "nRQFyDh1g6SBnbCIToLYyLhgU3+mE0xFb8dGhLdexQCt957rKGiLJzDFWD+n1GGPuVdBMl3kcV98\n",
       "qwMAAMAUcX5j8WS1CvaQu+Yt82iOazgMsh9YXaNNwu/Qqzvqlq754u9TQPntiPDMFtSviOgK3/Zz\n",
       "FEEBnDBxKOp36SblhWfEF3N7to2LogBdlOsjTSKILqhyjADhsS0K6IcAjunfk2Qa2nTEt/vMncpt\n",
       "taAAAAELAZ+0akP/AAZHxd/UZ/4Q11ABCUffdoDQMc15EG6PShB/YRqIQumRItw3xCrICUR8rApC\n",
       "+71M/pCbw9+syqGuRnsKZqWnsXiYPYtxR1R3VPHOiWNXS2BbHfq/tnKdTxnWUGC6P0yw9qpYf0Xq\n",
       "v9b7yoss2SEc6ZYD3LRg4OhStCZr4wBG403IJOfnN9Hb21N3TUvOE1ev1ntVwN0CmZWBDv5G8jGL\n",
       "pRE8LpXOW3OMstVzC0D0kt38i3UH4ogayJ5xxr284EFPTQtQM3oYuI8rGFlH4GBvUHnTQYqfaioN\n",
       "yx1oBE6EHSFsZpjcJ/nSNhQ0Vpwk2XVzKxzhgfGoJhIi5QDIZWZHS5SCr+vZAAACjkGbuUmoQWyZ\n",
       "TAgn//61KoACQnMfGSUgAuWGkrUiMblqAVDzRegGaUNab/pm+okf1n9bMITEB6imiVAR2a7BJmOC\n",
       "ZKvAtAU5hnWXPlhu9ATdnIfralcvDwq+xLP6nuTvWs8C3UViU//OGc+hsoGk+fduP/p/VvPbQ4IY\n",
       "bVQBqd7KBVc2wKO82yukc6kcvV28yGVi8B1War81tCpAlP/Qi+aY8MfcBbOJt4ByYm5zuWTBbLhy\n",
       "XxffidwSKELYn59wnoWeN4ezrcVJubBrIZxaYpzyAbTJa0GoQ1VthMZHd2RV2MhlsTrvRJmg84iA\n",
       "J9GsHirY6aAPQECwovrjkYe7OawElo1yNxR2kj1e7rP3F6evOlTxzJoXrGS/+7LYuZQYn/zXUiMi\n",
       "6FwmFc+LTRrn+f9odzOqjnfgerpMH+GYGkt0SaOAueq85TkB+OF0q22N2uUUzPxE8cDMR0nKMke2\n",
       "sn0N0z/DWaYjHQ7k9Ba2l8ZHIKfyRCYoD7UMPsZYi3/GiK50QFV4zSTN5qYmh9lAxFq/IFwGc7vK\n",
       "aXIOqJ2mc9A8tVyVT1BscuQjfYAjsbm08wwc3d4ToGQbI+3w3tXqAgTkwJnvooZq4eotQwCsd/3F\n",
       "JRFX8oiW6XUxPIIeAJu9pVMW5s/331ABGgcRDjO/U4qHL4byqVTmyHGgBhIbmucjiJJAtFk6AzeS\n",
       "T1eiBIwiLcLoUthq902+LvdJkW7CyniAAYUMkTahwlqHIwPk/LtkCz9/tOKCIKoe/MzyZk09vEiA\n",
       "H30aFn3F8H9Wri2vN1FwvktgaZOPFlbJXEWcj8I2EMakrp2snZMwPVrdW0xzJyePBwbirPNcnq6/\n",
       "EtOApGn7R7YiUa9sg3hHVPreYAAAAYNBn9dFFSwQ/wAC1SxYDjgAlqkN9TbGDypjYQxZy7cVGUzl\n",
       "sy4Gu1CIiALO/Agl5vXiV6C2M8wlU/vOT8DjPnHQRBMA/aXFDNjGBPSguUn87JFor1LoBTia/xHn\n",
       "l/nN/Txw0Jc5zwF6O6rznILVHtNE/0i+G5Ud+YSfnM2tKfnmqe+JkkKzlNhsRFZUOPIaOAhrhACa\n",
       "0ZrDYJkNSfNaMuK6MOf3AfuRe9hXnGgkMUPnYsw2i265JISFp5pR54Pl1nkHaEV1rpoETqs5us7q\n",
       "K6pGM3gGZceLOTPYfzEllMkc+t2NsS5D1lFgSvNfudDnNDYLbKCiCtnL0s0LPy+6YE4ayCi/57Ln\n",
       "PjV+W3Ong+9vzSc5T5xXc1w8NrSgV0U2tYtQe90qF7BC0rD64/QXTHVK2E+4VZcOXE/zAiO9JGkF\n",
       "Q+16JBBSeKkbIIDCvZPQ92ks2WrLOPxkK+zMAGXgz0MQIDz3NB2kBEpQsIVmQQC9bPZq0jCH6/v0\n",
       "dUGFaisV3RIJ3g8AAAEwAZ/2dEP/AAZCpQw3ivQAjG3WxPOOrX4uReG7sdhBFzpkWLauTL313Q1P\n",
       "7doEwG8hOkfzWbzVyGFItewtMp2vIOjDJcMuWHYehLXZ5zK557ZoXpyN48QNIeCCbFKuXBcu/PQs\n",
       "v684B1+c/NKCwLx+PpE7pWkMICd0NCruxhsVy6jS69jtwJF8f8IehZaxr/GG6BqKYgz+GPZ5TIMz\n",
       "8ySQhXSBfgMhQIQqlXdB8UxPuak8tQ2sBYWvRsRRL45bwWmAElPdRhYpMQpIl0yRzYUX0Ziqjwwo\n",
       "QCgwD49Y6S1AcNDNtpzJN/mQXUKly7XEYYGvsiswr4M0H1pSK3gPznVaxU2bpmXyNB3XOW5dxbUS\n",
       "WRBIvxSjTPv8X6depAyeBCn992BO+13cyHz/TxvaapXweQAAAXUBn/hqQ/8ABkN8XR/tegAunabn\n",
       "0jeD9PfWQXKMdyzYUcyb+sAy3A6C1u+5C20ieUVmGqMflcybVc3GuGPOXTlYaQtHEgExRSM8bBt8\n",
       "Sj9yf0CF92F9BZCVu1Mz1z9KC1czpVAZXijdjnp80r0g6GjT/L5mdvzxQVjlibJwbOyLkD0YubZ8\n",
       "qUshadN34BjXMb9B0cc2PHWFbNOL1ABeYWnK7LrV1ESRiqLgmmdUz13rG6wJgN/eXAVYQKEMT/8J\n",
       "n+O+VBT2bnxxz+tjXJ0mNEkqK+ABBzoX4lXoNCsbVq6MDSj84KKoRqVeh6Nx+LYEmdEl/EW7ABSi\n",
       "7LnG/0pS2MvVsdTt/Q8aAbdLOOmEQyCzuSbpi0oqwGO8DZyZLqnIk6qGZiLZfVfNXhOlRIPuJJk5\n",
       "pLVAkggPq4l/UzrTobeABobR/s0emBkzvPNrtm+OSqMNVndSdHijOeFK0gjN3PLin0YU/RG4w7I+\n",
       "f3BaAppaTxMYendAAAADO0Gb/UmoQWyZTAgn//61KoAD5xxEgaIAsSUuElPgKB/yVPjAeNtVkw4B\n",
       "ZknZAAgnP3Fyx/aUdj5DiL0vP9W73y5ROg89iveItf9T/N1R5cmA1AEbDwRerVJ3l9CoSvJPPScC\n",
       "1eQr5v+xa4+mJ97pSrAdocq6ffJWQs3kxFz6s3jo25XEwMqkdCqZbBW5D2MxCeSf81N3IkhKaN79\n",
       "JDNmg5V2yafkgy5SgG37zBTxlLDqB8yzG6k9hbjBtPoIS0m0sVcjZJ24gx3if/PGkfJM8hOZEgcN\n",
       "v3K/k+hlI7zE+o3xrDYuc4fzOI3ciNytc4RIlRflmT+oh2jcq+4g/Uav7JaHnr+pbrti/W5kNJi1\n",
       "OhBBWqShco5rb5qsAgT1crtQHMF8/EgpMePckwNUeVhwxnGudet5drk+O/iwBbkQBjAUVk2rm+KD\n",
       "ih/0QEn6Jze3i6AFVUOigq3gguhlreU/gd1PNk7X7ZgObTjc9YnNDYA/q6KZ2i3hiT0QsHr5xHF9\n",
       "KjpSU6z4Kf85jZ81qEt6Gu8ZzlP0Tjmav4yE7LL46P0FAcmLqr6odJ4BBXIjR+13rk5rOdiLZjvI\n",
       "LV9yhdYUi2uOSUFIl+tRCEvI4rXUhmli2FZ8KcKWvAQZCL2a9mhY6hl9X0caLxmqxsXzGdgpCsgS\n",
       "IUbaHDqRwKKMBIroCzorwqLgeqks21gPntsTb5JvrXjTo0R2/pJPo/ykYYseDfjMQeNS3sro/qa6\n",
       "hKe6vSAvpmzluf7HjE7JOZa1y/8gmL6KB9Q61PYWek43ACbkVAH+8JNCNJRNmOwBnQy479wb21zl\n",
       "I/rWLcCitSM8aIWFM8Ekzmq8eitobfYvEhHkNvzXIyObXRlnrQKN/x6VeBlld7lKVlmW79osv795\n",
       "PHY1K6dkW//Jcaq6ZNmL4nq8ll2BhLmuCi8T/IbmRseCpGfjakh4SDbfMU+hTjPxw3yjgxAOvNw1\n",
       "3wwY9fxTKW+OOLKYywz8yYtFhjh1+RYi1fNp/1AgKxoVpdRqX9zIsTEyjHjCw68EkjyHDo+fI/N1\n",
       "2wyRw3fdBUlc/DZEy919M5UC1wyT9mteCmHjG8jBEhL4RcPu7e8RF71g1DSBAAABQEGeG0UVLBD/\n",
       "AAT3Ad25v5F5J4KdW/KEy2TXTNHKeKZw7wCnnJnmADtarLSBcq2+CIo7SxE979WuKb3LIEJ687eU\n",
       "FR6mrBt+neOHMaq4b4dVfQzP/PWn+m0SMZ4r3KeHqcNKrPIHrqmmRuWQGeCTZ3VU6ABirWGSLzc3\n",
       "rCuMmpuQnWSytMrlIf9vaNFxLzGgDY/kLYGL0kPO61K0y4KXrOvhJGuaZJGhtRJsIddI4UcBobvY\n",
       "ZDnqA7qJvcP3rYpN/3Yc/fJlnQuvJaXxWQF9ypQC3lkuvHPY99/VElbdNPAWmf6ePzMVy+BDNcE3\n",
       "vVmlpTNcynceKgAPib/5UGfU1IWl/F8+lMl6TysyJ+bBSh+xkdbAlG8IEaftl8rdYc/DaBro86VJ\n",
       "NZ4TB7QvJWTXO42vXv/al1DKlr0uLNUNphPQAAABaQGeOnRD/wALEpa8yacOJoIAPy4stxcrkBEa\n",
       "lCzzaS/Wd2Knl2ED76WLjupr369C9QaGi0c9q1P+8xkVRYLPUp3De6/HpE3Lsh5tfBGUg223kbvQ\n",
       "6X/7eZVKpuSBdzGnF1xdoLrEEhY5obYhv12otcVL2c3LuooldPXezCYUNTRmezJPYrf5QPbHe/Sg\n",
       "SyS+WPKYyp3XC/eD90lopPKGSZT0zi1SAg7yg8MQsFHYPfV8JHbYYrsSvYveQLJYT2MQJqiPsmSQ\n",
       "85Zrjg88AUlTwu3FPGhCcai2TQCTJ2AfVP+P6mu3YbE9DSMGsv5N51tae3/osb7QNrUKgbQNxhpN\n",
       "CBHnQZ13awlpyg3/6qrzL98IdUK4+1KiummzxaxQZ+9F7CwMgB2UUiTs5ytle1GE77gFXHHwlobh\n",
       "JdR+R+oVfztHaURipx+GJ7dmqjxOLOWX7YPfqpRwODOj7125tADoPcRjbIb1uSHeqfkAAAEzAZ48\n",
       "akP/AAsRxOOZAFa8PvSUlY6u/czcseLsaKC5xUMLACFIoiT7N1k7Ve8i/1FON1+Dsnd7YeP1pUZ/\n",
       "Yw/PjwCLeJrOhzyZTK1EoIYz0hB7vQcCmqL0sES16xFKl/ryVh1X1JVVycFDl43PPPVsEqJm9s2U\n",
       "LTM33IK5plCMl5moLPh+fAwL350Lx8ySncS67BcUfCzi2KoxIV20zQw2Rh3o5Yt50YxKtUYsKmOO\n",
       "PG0uGSbIH2YcY6iJyBvPk31U9emoahu48WSaz8EwXHjgLCWoO5oVAIyxFLT7eZPWtPjFhKIM1Uk5\n",
       "ciIhee3YD8BdkEmVBmxpYL1T4tubmnPL0ftoFycMyPt7SdQE1oqk4Zs/DYG0F0ymvvI0TxsGkrVQ\n",
       "nZp5ttOe7RvTey2d2PUhdhcxoQAAAudBmj9JqEFsmUwUTBP//rUqgAPnTci4GgAWx5WZav9yJ3bb\n",
       "5UHzLv3QUFviaJ3vfAcdryfX6f1xNPQKuoIeuqMRomtGtcq0rA7aMYdOIYljKEY3GquNm/w7JBN6\n",
       "iaJRftdtg9/oDkh1RIy+AHDhf52xsMjfhHnUWJ9euPmpzMjIie+UnGML0FqP4bBOjmd6KDNUBG5G\n",
       "HxB/kRYAMcJ27DspznJ5kKtoDlGKOVslpqKU9hcfgRlJs8Ab5nmpjNmJD09eX0V5y57IrbgXCXr2\n",
       "muLNpH96YfhGwvGcP3zzfhbJW0dFROAg74Be4KeO/bFWPkHM1/JKLEOJk6xAOmtdXikfW0jZgikT\n",
       "DHG+FIno9elbpKUeDxPhVAWVVBp+c4Do/crmmU6YkA389MsH2veINtY9VADCZbtwNQzxwA51mkVC\n",
       "wxLI7j8j8sJ97f/TbXY67NBXF906eDMGPfAXo3s2/6F5en6lUOhz0qEOHXD0DScCBVMQNxeEXbgu\n",
       "fybxxHXllHMa18DpP4Iin6CmaXmwAuWobpw3shd4ayHdyIe9+t9mlcn/AMpK0XRLQ4Nw5MhzkC3t\n",
       "6xmHMGz5DGopBd2gczZbr4ZVf51qDyJ1WpnO0My7k0KjilgPU9FIwx30g7zIYbMYAzahtX7QYrR5\n",
       "oHySyNLJ6vdK7hb6pfD2/zZtyqVNkBj/lqh7Bgw9b2NF8/vMLtwmBEOD/7JLR04gFxx49EhShTW3\n",
       "3/Y6Lq8wj/3eCRy9tsw5Ygt6UrlTlIxDtVa0iERHnqmWyah7a9BX+BK2+0gFxO4um+ISC4VzEhT9\n",
       "Zocb9OlLUVxui0D3wxBlCeWyOJRRDiFwRQnOE506kxLYf/i4ETjmhe5jgU6J6qy1selXakYu1Qcx\n",
       "fV6Dn4RzWumJKM+BLdCnrEztyGPy0nokLyn6GMEF/XoaGX7KzkJRbcAZaPv1cvT45ouGFsGby2Tj\n",
       "alKJPQiAmTZWDn4HJD+mqGg6VlGbuwxbTAAAASUBnl5qQ/8ACxL8j7vQAcaI/I5zqMxC5xaAmGXM\n",
       "E7Rhfy1KoVgPx2rqS7Iaw+t09mgj8GYlzNQQzbAJ8w0LQ3ZgHzd1N3i8O8pyx8jgHqwWId9kcs7L\n",
       "IJxkmmHWp6pYzRK8R7vZddPI61CtrBNGUqBxC/n8H43+IjXjcZGSqdzCKtqK0MC4YTDxdZNsuH+G\n",
       "HljWoxQhG/9ib5/I9puHghdEtUXLlv/haOJPwsdfN4seTduTo3WEITPLqOJefIdpDmjhBPCPPCE6\n",
       "Jwycw9Qu2axOSsD/HcIJ3VFKGV9VXIeajTM2MFl30+8rIiUsbqSbY3sZyokNVt7zhR99hO/pBqS/\n",
       "Z/CIwqvjsbGTaaUxEsq1mnqF5GNpCYwc4u4EGvr/ya9Kb1rE5AAAAqNBmkNJ4QpSZTAgn//+tSqA\n",
       "BATksQCFIAdLU7zvEdltYaULz3mapWtsuCcOt9bP9pw3xFFgn446qKNJgDzqDCPCL0E8Wspmwhoq\n",
       "uSJa9gsSlX/F11dcB/+uuzsJ1whd5IQ3VpfxydUnRC5FD6QdHcYI/fJ9FxAK7L2+xNDVmw4BboPo\n",
       "GygkVdoCNYh5FxD0wvqVqTfDu04L5MQbdhE9cjHHZbL2kOu+3X03aUfzby+Ajyc3s4UYLMM6U3pF\n",
       "yrB1ID1BvIr0MdQhPvguZHomYbr9ysdvidXIbukcj78xNVO/97G5KTxC0QuDVlvBcC+0rJrS3EbB\n",
       "klIyELs3bsDhj1Fr8HzS4h9Ee8mSarugEBPCi7XZntf2SSXLc///E/a0mBn8jUjMQx7dl4hUWvdz\n",
       "xRvpFdNKp8aNZ1/MvgDJ5u3idxkhBlVUdtjZqSZIE+lIeaS4Ky2cig/vKcsvJSo+ijiROHAQMXnN\n",
       "kdUzmdGZ89TcgWLf3krh3RPxogor+zMA3QSQDxwqECfvnLb8mcV75Gg23Gzr5SUoqURkwRt5CNh4\n",
       "F1VZ+rkt/clAYEPV2yPqRi0L4GZGtiyOxG5kBANNO7H39scTc0NfVatiycm/9329SgPD44mIM1Ga\n",
       "FhLBrLFUnEyWe/wQdsfWh/v5R/q1SBN0Jsf4lmhG/Bu/ChOyuK1OWMvz6TpoArF8NwAmZ+eUNB2e\n",
       "FisMicBI45+dUc4W88sulmNnTRv5hMbBdMc6tkF2gAHCPb+GUeCNqL+Ftj6uQsZSJ8mTHhS3lxkD\n",
       "R6KUSBy5CQ+Gk64D3kL66S+oBjNsngDUEv/g+VZ0DRALlaeRVddv19oNy/eAA4KNMArIABT98cZM\n",
       "cNWy7QCEsVVD2RVi3n+ctp8LFqxZQJ9jNPebakq0MEEAAAE2QZ5hRTRMEP8ABRtjF8Q4mvVc13fN\n",
       "x6S/PJrkALaHZzy2+D4hvThcMUj/TJNqgEGbSe9fX8+/AdULgI+drT51xAF9PuzabhMANveZZaFA\n",
       "fZ9KoQO116WMm3BjTh8TrZT6+IlJ2gP6OTSkIPZ1Ub2ywrG4OF62dN9dWH4bqDNz5g8vjUl6QBA9\n",
       "gJTfCV4Ucqr2INyNyapzJRwHoD18K3Ol3vHRS4PnEnuLuVc9Huzm51Fe7NCSGL7k00RrJyp3ttc4\n",
       "1WXWqM//p1rdROwLUT+yy3JHZPwhRbeU0jqJGuipnHRMXCXe03lEnvs6rFopey9fSsegzKa0aBxx\n",
       "hVdU7AVKnFfW2BXrMajS1St6R2oXTTUiyRQTvwzUWqwgsZnquTKFGSfqqHWJcQDtlO05Sw/Ebe2+\n",
       "ga41LgAAATABnoB0Q/8AC1qVDUg76QAK+GstMX7/VODP5cEV7FLfUhobpfkRJiWBE7AtJaUlZwsW\n",
       "wOgR0wo5WeI/P4JBiiT8jHHs8GHp7ndJIHYrLSW8aYTdZcjYfAcMfgeLqAw8NxDSBweJT6Sb/5SH\n",
       "bu56/AO/AahZADTztdmBkgvT/ik9psTnZAZo4njlaDKhYiXCrNydPjj3LhgszddKb7ds6Q8aJCb5\n",
       "qJhb5sneKz48ZuvyDc7JJyPaH5CyTdWTxkWdCLnUZF9GKQ674wQJkkL1nVGroOl5R7+Suw2Fiesv\n",
       "oJHJVEA7fALumf1GzvwzuVTXE2penG669qlTFOi+cuCqvjNY2gTdwtrJpUd6N/c2m8n4xNc3R+n0\n",
       "soXr1JlctrxjhJPvKBerAfl5f5kL2EAvwItRAAABCQGegmpD/wALWnsMbR0IAVlnlT1PK2EEMPah\n",
       "Yb+f9tJuMzMC2Ct8WAFu6XMFOcXSgi75WVO4PRXnyL+QbItpE+dC0eAQmY67o4rXNgqHD5EIhoLH\n",
       "gqfK47vekUjUFe22Q+D/0QPNob/8TgaLmKdTK0bgpJQHi6f8/Qcj2SvPKxZh4cQAF6IoZ2RH8kBm\n",
       "IquiRhA0L0ZDZwduHIkpC3iU1jGq3PkcqN5g+I2mEePiCNTHwCeY3u4gY1rszt5I0rQkOOcvCGxN\n",
       "RVEfqK6rb4Z1l9e/Ww84QvgWT2CCAul27pxM5b9A3bKoQiNlhKgq85WdpwVwwVW+o8iGSMNBkMxS\n",
       "G7Zv0c7v/XA8id4AAAHqQZqFSahBaJlMFPBP//61KoAEBQAPAYAIlcUPf5Zfeg8Wu+G675rjulos\n",
       "PUYqWo5mDY2T2IUQHASZpSrCxC5PjHHLjW6EofnBEM+FCLLcMxlbaADP0CGez4wjnDBzE4eumJwh\n",
       "jWxiHkSIRXspw+hFXII8OPyIo2nqc2oX6UGQxCSv6Ol23od/hHhycqF7CQUAfz8/RgNaWNIQfC7h\n",
       "bTcI95oJhU2dzsecq5pP8dgEftY2BTg06GjSGt7WVJLbRXizQvO2o2+EOPvzgYkdNroZKHl8Sd5D\n",
       "QJ+RsQ791ShMcnDw+9BF2FtfTNy/fksDg2XAoEMWADAp6IgzLYkg3T6/pIbTOY9nY95WA7TQe/Hj\n",
       "G/i8SNz2X4rq2wAOd01kkiOdD5VRw34tq0b0t6ZdTpwMGfPCmcHfjhLsWWO2RC/VNbjZcl/NMJvg\n",
       "l9V2rkB/gMFgc8i7bggDmxdtVeau9EN44/57hH8ZaIc5VeUAvtBAgRng+b/1EBkaLHxvraTRlvSo\n",
       "fRuWHrWGBxYLY3k3r4qn+XzVZf2Om2T22Etv6Ii6v3+yrL50m+zsQ5efujNuIJICXZaBPTPNJpwU\n",
       "tsu7IVdId2Mvn1L2lnmOmCvAO8Y6CSmHeCelX0xOYOArBzH+jwvj/hi6lyfxqhBFwQAAAQ4BnqRq\n",
       "Q/8AC1p7BNgBUuR67f/9oQEbHYZN96XxCjyKUSGX2KeJ2SCzDUFSxjIVCYbPUQsz9P1eSxvF0tjM\n",
       "TdKWEIar3l/AATPKXjHPlBRZBnkOp2lFIYp2H5C4tY59PZ0Kazy42RDtqiR78ILwiUn2dIyV/oFK\n",
       "OM8XbHuTt0toxgJh71wDVOTk1f2OGGepHwDs8uvN3ezINuvs6ScJI01EBHHydHgndnkBLgKotNj0\n",
       "9zfZcQhm7EN9EY7dLAXDlZDsEYla/WQ9HzarSdQCtffI6Yv1wTz6Kq5T9PSwDC3HYeAdiz8gUiIi\n",
       "MVcS2mvkKWYaxpX900BMJriKCe83wvfmDyBN7ZmkJytx0SH3av0AAAKCQZqoSeEKUmUwIJ///rUq\n",
       "gAQA96pF4vTQAWqqEpnyN6XECewlHup0p2yywqMy36/bf5aKELXqG3d6/G49guqPY+eP2u5NiTHo\n",
       "YLlF0vRvBu8+SkLF8qs/SclWTZEusoum18ipTkV8P+2M5hBTyf/6FZbxwZ3jSPlzO4hmTBuvmCyv\n",
       "NK+D19+718Ho/Zl9L5hmLgS/DfPkLBLE3GSB7O9gERjm/u9zKTVaTSiQjpjtrqDEfe/r4csF/qJR\n",
       "f6Vfe2p3lkSff5GhRZANQ2KM4rooo3OCgLVUKlhjU4qKrY6ISDHzu2Ys5/Coc/2Gr49haXfdlxZn\n",
       "fNh3XNt5qecC7Pc1dIpiHYouAV+RFcsd6/pf//wQRUNWjtue4cxhpxxuMlvDkxccVtIljQOT2tLX\n",
       "oO3/941+mqD421eUr4gs+EaTFm4aiYR/b7lI6+236mfQpF7AvUe6VZv6wFMG8oC20/XlGUK9b/D9\n",
       "GgK0UZFRz1nZEMy7f+fBH8SeeaS0sRyvokKpTs2UckOOuI4fI3jrC2pEKrPkm6/iA1R2T1p3XepB\n",
       "qdUblSckfYNxxbh7bH8/op6EzKlW0nrjLxxAVef0Lv/Vgs5dZx3AnsHudwbHbRF4bDy1PjxCKj7P\n",
       "v5dh0bQ8CZ5cIWMvNPddheXIbY5Er4kGekEG1BJeKI8icbxK6Vv0zxqi/1hombDcrs+5P83y1sTA\n",
       "KzAM/0WNGpL88tWWR1Ll9Vsc2UrFIHclcJX+3rGqr8qPt2NotfOXeaycWvoTut+nXikh9dfd287H\n",
       "VvdSlEbujuUQTPleuPhdD6mbDaSnkDflZF+1a+E3nHT+sTPJlkHVEcR+vIEmuqe4kbnb+I2Az1fx\n",
       "AAABQkGexkU0TBD/AAUbM0t0pAAV4efaqP7oDbEquNUQ/fiQQ56CZX6FTkE1WjbxmgrETjgZOXvi\n",
       "t6qF8TYs8xxPczi1xMfLi3Cj4Z+/fODGSYSEHb/wvxAHxBlYoeghnbjv9CB3XUR0hro2DsSYdfk3\n",
       "ctrNwmZ+hx2mPf0hCgXj82MzBGbq0skHc9RBJMlZgNSCaK0gCJVjYfiQZ3Q7zuJgWqTvbeDos42x\n",
       "Bj3M9MMistTUPxc5y9c6v+uLpgdT86yZIXCGYB6o2bpUskvbN+2qRCbfJP49xZTnmbQR2vLf26ER\n",
       "Ew4o5PD4nUV343nyr6EiqMDOHUyzgBtlFkXmSUOpgALDvyOEmR/jPtLcPtgPUexU+/WbFzuLIZTc\n",
       "InMDgK6dcGzBVejv3M6pyeJzVX8k6I2NRMAhnd8d67y/BWZ+5U856oEAAAEpAZ7nakP/ABPieLss\n",
       "7zOV5cAJPDnhNTfvR/jKeBvHboo0QTD3GLem77GwWna/lHXg4TCD3PsGM3mJGyAuUZu9DImvKt+/\n",
       "kfR7gOh2+gJi8ImDPDg6jwNYot7AxidB5OOPLcwd1Bu/4C2JDsGONHasxyekBkAe9IFyXODExegS\n",
       "Cte1GzuWflAWfSgwl9Z6GccCK7fuQVPcg2/5qSxoBh0UjZlUwG+W70Zu7WFHydt9BHWfSDJ3IhZO\n",
       "bj+thIB1zdJP7QmqxLY96fVmHUt4fmewqjhfADfCGTYHY5GdCeuTXUbshZWKamZpHvYgb1WZHpLT\n",
       "QOvzSHo5uyPOmPxveEF9fSW8o7qr7iZq0+EbXGU46/9a+nuVTM0vR9UJz91rWT5xHFkwELYbJN0c\n",
       "AAACjEGa7EmoQWiZTAgn//61KoAHHUZVC72x0t1Rxq5YaeQZRgBwsvXjhkUUMffKEXVYowb/pbux\n",
       "YPosxrzoQNOinoTNyM3R2Wy+05ktCfNp6eS81abJJmglYSp/e3NWcwuYSXl0FE8UQQPHfvTn4xKs\n",
       "65EUImmI4kXionY+hbN4MDQE+T29I8ue9F0HmFXJcEZA1T1BqVAbGKwIWz1TSqlChYSaV6NLNzQn\n",
       "CQ1/y50Ot/KkN9Se00UrTS5wc5du2c1PGJcpZ1Y/m+Vch9vj2bquZDd9a6jIfz3rXBAm0Es4hKY2\n",
       "/6KCrD8m5JpbVd8tEhl1QAcen/Rd5FTpKX2zz1wiEhHBb7VoHXxO3/L/bYZiLgRMheM0tlutZ3w7\n",
       "Jn/Tyo/YWANIHVIuJkeBa28r4wO3p7+6c3aLFNxE3jkoiAMyewsDtpaBRKK6DDpGpOKDRH1l3EPW\n",
       "WyCCesUQafYqTcR7v6mJ4TQQ02Ubhq1VUTdusr6mWPaZD4k/uZ013NxODzmewYk5m5Vgo/PxGtSC\n",
       "ZhHFwNLznX0X3Xeq21YeeLm8kxJftxK0gZfcM2KS1uCenGXjTZOZjdNsDlAjpYSaGul29xLwXnkl\n",
       "P8h2MGsVYVVKCOGtILG7OXRo78YV1l51WSKkf6GXpPIUxfY2avhyvJCxtBIgqg/IhIQ43OFzrmZk\n",
       "3xTwaYyi0zdG9+r1Ex9RL1FpGjneJdMaV7I8Sz50tb+TZppZgJh7WvnkzmsgjnX1mQEofEJ+iByE\n",
       "autZ0znLs8vLmuOIFT4VTF7Cz5LBTEDMByaLYWSBQk+040Wva9uW++sDR7y9CBNYPM7ix2/WBUbO\n",
       "1NMAiNXuko1fZAEr1wqhgV7LsO7fzSoLYPgjIsAAAAHCQZ8KRREsEP8ACOrVa1CvJ4y6fkLGhfWA\n",
       "CWrIZ4zUum6ASZLb/7tGRKveVen21bsF6bTCBtP5ZXIMKcnIBEQwgGc9yu7vTOV2p/fIJ+NP8j0w\n",
       "4exO1LQRgCNNH2jPLP4vk7XhmGaStaKXZ3aWKpkhvM5xkgUa2YQJ3RwIk/n6a+OOFtfEaxApSv+p\n",
       "u5uiT6yUu9NpfvTFc5EfdNR2a6vMuem0bSeM/E6+CwGfMdKbqT4rydRSerKQrMHDLeS39KZcwZ/e\n",
       "HeFT5x3FWzkaQoXtvzREdx1ZM00Hrifn762z8rkKyXju/Wb70WrvZYxk6IJtKRVAemUQDZPh1md0\n",
       "1uf91vE0J7BqFXfF7Jb42OkBeP420SuZRnquXyeIeXn0YhZAbf8Vew9e2wmXF08yabw6MaburtYA\n",
       "64qn3BCpKDFjjQ+1qK4uaPpoO93/VJoOHVSbfBFWvUYKPS41DGzNPlZUDE3XRUVB/SHAMBBBaTAV\n",
       "rpX/MeENX9xBc815u2P731XVr/Az4IIWj4cUFLjtpoJRYCkF0W7iFXL2VyMs1pIFIUiljUxeK6F4\n",
       "5EA3bfj8GpPQUILwW6dtGqRGY5WUoWSheqxJAAAA8QGfKXRD/wALV/OGzEIATiBI1HzuE/I2YKIS\n",
       "S83YEy5X1azt5dHN4H5kd3Ps9Es5erIdUHN303epi4UNp/LWYU4zmT1Owqw8H1eN+zbCzuZljoAs\n",
       "mXA3yfrLaVs/ExX6LSQyGQ+Cq9gf9Jiw5D6jEcwtrRuAX0K8xpXI/uNTW/APnzxfvvdcR/alDqHq\n",
       "RgKmd+eGOads1t0UsmoTAxwm8KME8wX4vyEN7n7+0jX/P9/KrcyiYsX5QqALnSve9zvCASGighVv\n",
       "uhDc/pCSCpCsdPhif6nZgwJb42iKQmhBjINFX3eCeEw+WkGMO7x/jufHdMAAAAF1AZ8rakP/ABPk\n",
       "937ro565/D40QAd/zPNfA5fp6vhkLUDLUfXim/smyOIdMcH73M9ai/+KJi2BFIio/3Mms1UAOT+e\n",
       "YX1soC7USe07mHjPjmVNZOMPvtdOxJMeX0YlfE9MP6MEQ0PCxeEnX8f4KZZKWAN1Tg4IkXUk1A08\n",
       "mA6OKCnmGpyWY1FzXGKbcOIQOCoEnBqkDnATzmlw8xrffnYXKAC65A2HU8GZgOP8SLcErHrHqoEc\n",
       "/iqYv5LJwZ9QZjGDzEofkIPdIbmQwoLtwwTi8gvQeEVAD7D+fty0i5nsaP/EW9gNmxu7Grqol4kU\n",
       "yOo+VxbchYlWuCoTZ97/xQNAuR+e/faYJdg1ZhvWTVxHJYht76sK+vPOs7goW2aoTJo2Ux6Sxx0C\n",
       "ScgWr648xLj7oEveCUIaKh/EhIKRZ8B9Z+9BzFqMvv1huU1u7Yjz9HhjvSLfdP2AhXN24qpdHfAJ\n",
       "BEkxnPbDkyb7DOEHEi0sDchwv/bAIAAAAfZBmy9JqEFsmUwIJf/+tSqABx43dSJgAuqW7AN+Hqn4\n",
       "CF3F8ThX89y1Lh5TSGN31Jj75l++TYsxUBBysnFbfqSF+2tHh7f7D7Up891msPIVfd8meqBDuCHQ\n",
       "cInjHoY4i4n9OxguMx0p/gPmPp4cH42T+tFHxoG4YkXtLjmwVE9uEG7E78dxlfx260nrWdqjgBUU\n",
       "GJoo25keNhy4W1fgxQJ3wHyyOIxM7jLACcLadfc3tZnyUVf2+6NaBYZtJKUnhw7qPeLSxsJSCfN/\n",
       "MtGVXgFSjWkuT1AXbEKfswJcIKMpY5eILTjyLyfG4lOta4whZFJiUbrNMGY1xiw/R5XAavld3dNS\n",
       "Ar/rXGYi0yGRCV1cuTrKqNgBFQKbxunqUdtlYUGt/ZXF7MgZuo/Pf9xjeBsPSRsBxW9feTCrZCdW\n",
       "ewWbt6ceV3FKChD8jObiip92e++B/Hn1BWUAGFl7L5wbYKhN7KSSvzA6/lkofv1RGvjnbzOQCw/r\n",
       "JRhb2Boag14lKSsqNAaAWj8bNzzyTzdVJzIXXxdPJamJvs2MTYTzjayPcbaw10UCIga4hR2v48eX\n",
       "WL6FC8HrprFP9MFOgKdfC98uEG2fNcqc9lyFhKQuoAMObZJs9q3LRxrTG+pZIEmbPQA7eyU4zBF9\n",
       "crA0MYCGSee17q+x9ZuJAAABMUGfTUUVLBD/AAjrMX+j4LkntmQAjyjx/9dQ6LVtOg10xg5sTaWq\n",
       "D4zVrXnl871ep0sVzkykd+BKsanhPYCAcao1MTnkyrTqoawv4L5hRkH19KAb8tGRPph+U5oHg3Y1\n",
       "N099OSZmxvxTvnUULRg2FF1mGNvJ6Hxdy673NlpZ+C1Em3y+SHj1Jbad+gHmEJcBAf/6ccN46Auw\n",
       "gq6adbq5mfXoBOvkD+BnPMNs5FFjgJGXpkSko+eIQTEcaPlvW2RKNCvdE4DJzMVZTcsiUCYlGa1h\n",
       "JT2/rKqJXid1oGNkSmQyGWcrCqyRze/JD4WXyrOH4qghqttK8z1QkGfmSLArFumxjASEldMFJKEw\n",
       "ty+DiO+LBRT9Shqk7uYQCWhahzHq3rUwW+uKpuzqeTiZXJHbxuz9AAABoQGfbmpD/wAT5Pd+80Ni\n",
       "rL/gBCjWH0L7OQ7enZQU8houv1OLatwlSo2IjUS+t9EqYT5m21joyYDanhdTlLvxTJQr5ogz9j49\n",
       "dz8yb+uzMnSl2Cn3Eozo5soAtCzpWBLaGtJxVYLUoqrlvCx5OgOnX/ZSKtXleLogME3NJYAfiwsd\n",
       "lKtFm4mMU6HsoTcUmeoYGkB4n5MG/Sw8Mf1lUB/FS0CqCNB+AvoBsIUUXV+bjpy6g7BZIiwESqRP\n",
       "eOOeuIMZWhvl6k/LSE2R6Uu7Bc4jUu4WSd6EW5ui16O2TG+L3Gli+zvnVTUYs1RD9UfA2JRykokw\n",
       "5Kjh4FxOnsFBV5WZTDervGSSB1veEonsYrIFTA3MreimNXYpFi8i8k9Hkw4zJiHq30wAsIjZejfU\n",
       "8tADJg/RVzWJI6lsjK6bOqYcuuL1P7gV0OHSxewlBpxwhnA+QIls79xZ17Qnw2C+vNu+OoJbG+65\n",
       "SrieglLP+5c+Hb+ofwtCPCXGOHtCUUNP5yHHISzHYBFy/6YYfJV7J5nBVuO9kju3XaBTi2e9sEUF\n",
       "jOXl5wAAAXhBm3NJqEFsmUwIf//+qZYAN8ccUd+AAr4ay0xPeTawNfI4nOOKxKj1duqBHyqbKdi0\n",
       "dguvoM+G1hE99ad4nDZ82xLu2MRB7XTsoLlfDst8pX6HRuZB0QhEIAhMp4jqtsRM93NWKJFM98dq\n",
       "aaG8lR2H2RPNLUbZbUzWwhIdxegpKKfy8A/Vs0X3sQjlkNU3GMNbc4F+InZ/1O+fiX6pmwjwGdrF\n",
       "8/DRKQ9f9VJdMPicEvIsuAFHHVaZCf5LNo5tSfpwD5WgXibiUYDkgnErmmF/OaVM9yr4YhWwzvLL\n",
       "U/KklTxrjLYv5yoC3ToQ47MhuXjZb7pUKlyv5WaQCps1ppcEfIzLRelclEWg5sc5TmhgewyXXMCJ\n",
       "1V/kRIdYyWec5jfIcY38zEzA5a7KtO5nOm9dHM2IuaxXWqnZZkJDPhTDUvsAeapybZFB2wd5yLV0\n",
       "qPebBPSLu6wY/C6IKOY2JGvQsbHnRqShUzCd++vhOI872uPystlp12NgAAACI0GfkUUVLBD/AAjr\n",
       "fQYHUAG7AyDB7UwkThs7afNsfg0usNwOfMPcXt56B5KHygeFmhmrNm3Nw1003lHNdYVPE6wfuE8q\n",
       "PoEbFOtgXo7LxLL4/WeyB8PkWQMyxaeyHRDsf89HWMiUAtj1L6HgEN+YoTLFm9+lS/0T2t+vBeTd\n",
       "4ad7lIqvA8c0AVwHY+qCDKAB8D+yDyP72n2pnHN/vr2WX8CAw0OjAgvvghi1g30NeUgk1gFNQsf9\n",
       "OiMDhoVXqIqR1j32vDbxtuEbhxV1Wo1mBMTnFgEJyadLwuB1rqueWwI7I/REQt9Ns9EHMwWIoscV\n",
       "vZ96f9wfF56T2QgMwiMYOimPslX3WA5CeP4Z0/o+zoCIMi/tr+gCh5AlaNXRt4hKzHucZLIUVjqi\n",
       "3EszL9YqSPaq3qQjZJ0kJjt//Vd7ozu3thb0SGqvGIKHdTQ1616So8WkSVcJemM/E+MUD8MlFHND\n",
       "3erdy6oE3EIAp+TIS3f3BUswkk4zh4KZpwdjHvLwxpt+GLAgwzpjIHQBaXlOmojevtvuCRUO+Elh\n",
       "/q5PWbwdn3BS7RyHGzHm/MRXr9WXQXGv+QtIuY0Uj80z4un659JlrLv/cfmEmTj2TxwNv3Gn6OfX\n",
       "5HKKrDlRVIAqpkpj22e6b6f6N4lDZwPTE13R0xMVuFh/fccSzbubFqu3yRNihhwGroqLkYTnhw2R\n",
       "gyhuzUkN3wF6/tCYExMgm8SvC+GpK4wAAAGyAZ+wdEP/ABPjoYfg11B08mAA1bOBDVDhiiL2xeMn\n",
       "aaFfKogcIZRlPTVa+oSLLVEM2ek+0QamBVYSyYGR24iE3Q56yONLN+BHBEzJ1z1/6NphVseN5J6R\n",
       "62BlnqgZrRznnFM5TDuXLyMnPhq8uBlNb7SQ02dYuF5Qvx+CbVeziG53mP7OWqm1dDBhdBmNUMfB\n",
       "NJ/YEzk0JIMdP6oRTFvzSS3WJQejekPkVGB6KQ7JnbiSw3RuKcqfl4Qsy5MjlYooqltafVr2EWoR\n",
       "3/n4b+kkXehS1rOfPm3g4PsJD0w0dnGlpzDKpDVZBJQ7ksolOoLeptmsgvdL8k6gZAvPbIridY9w\n",
       "HutttQNTFDj9D88BckTjIQtyJ0eu6zRL0QS/BF5FT90dKWIPM/xVLDnYJ+P73T5+4Cz1MHw41AuC\n",
       "qCduTj+Th9w1f8vkJpPQaGEDgR+RzTMp1mHhlj4wwY67kPefDutRmiD1qTLwl+1MEwnO9DLoRnlm\n",
       "L2bizx1FJawRegmcsjP9lJ2HhUeUCDkIlgCILXUvg7rfQbrYJR4GZFrulx9njj6B9hp9pjvSEtEg\n",
       "OAJ6FuEAAAFsAZ+yakP/ABPl+lLP01JoTQAa0OEovAiV/XAVFILKyrG0SaOux9w+RjJhTo4fJ4fb\n",
       "5uNg7W/hf4Q0c6RlyEMBGLjzB/0VJ2pW4xQQ26bTMalblnoF6GIdj80tWzcdLdqsg4kiTFYUUrU8\n",
       "q4ys5nxitAZGbSj3+fME7VyUUivBHNFFJvrupC42mV2kxS2StHsRDgu14D+rsLXJt+deM+ffSLgp\n",
       "uIccNBFIkIFCoQplasyDyYyQQBCGFgmN/74dgTcEiTEq/GU7j/YZUFjaoTTbmq25z9mjcNFcfHCm\n",
       "QR8DlpbCDpfYVTZTcYgvmXpSjp4cNU6iibguSy9+OWLo9pbQ12CeuxwTxSaXTmNYJBMwYBVbirZb\n",
       "n/bzDcUTWkt13MfpQemWUpmi6YI1bGWK5TQXrux4ExRIYt0NkaVsI0bfROoo6ggE6h3gJXvfaFZ/\n",
       "cTG2cUOo/11w98DjVe3rORizLw4yf9K0YuWi9iWHgAAABYBtb292AAAAbG12aGQAAAAAAAAAAAAA\n",
       "AAAAAAPoAAAooAABAAABAAAAAAAAAAAAAAAAAQAAAAAAAAAAAAAAAAAAAAEAAAAAAAAAAAAAAAAA\n",
       "AEAAAAAAAAAAAAAAAAAAAAAAAAAAAAAAAAAAAAAAAAACAAAEqnRyYWsAAABcdGtoZAAAAAMAAAAA\n",
       "AAAAAAAAAAEAAAAAAAAooAAAAAAAAAAAAAAAAAAAAAAAAQAAAAAAAAAAAAAAAAAAAAEAAAAAAAAA\n",
       "AAAAAAAAAEAAAAABaAAAAWgAAAAAACRlZHRzAAAAHGVsc3QAAAAAAAAAAQAAKKAAABAAAAEAAAAA\n",
       "BCJtZGlhAAAAIG1kaGQAAAAAAAAAAAAAAAAAACgAAAGgAFXEAAAAAAAtaGRscgAAAAAAAAAAdmlk\n",
       "ZQAAAAAAAAAAAAAAAFZpZGVvSGFuZGxlcgAAAAPNbWluZgAAABR2bWhkAAAAAQAAAAAAAAAAAAAA\n",
       "JGRpbmYAAAAcZHJlZgAAAAAAAAABAAAADHVybCAAAAABAAADjXN0YmwAAAC1c3RzZAAAAAAAAAAB\n",
       "AAAApWF2YzEAAAAAAAAAAQAAAAAAAAAAAAAAAAAAAAABaAFoAEgAAABIAAAAAAAAAAEAAAAAAAAA\n",
       "AAAAAAAAAAAAAAAAAAAAAAAAAAAAAAAAAAAY//8AAAAzYXZjQwFkABX/4QAaZ2QAFazZQXC/llhA\n",
       "AAADAEAAAAMCg8WLZYABAAZo6+PLIsAAAAAcdXVpZGtoQPJfJE/FujmlG88DI/MAAAAAAAAAGHN0\n",
       "dHMAAAAAAAAAAQAAADQAAAgAAAAAFHN0c3MAAAAAAAAAAQAAAAEAAAGQY3R0cwAAAAAAAAAwAAAA\n",
       "AwAAEAAAAAABAAAYAAAAAAEAAAgAAAAAAQAAGAAAAAABAAAIAAAAAAEAACgAAAAAAQAAEAAAAAAB\n",
       "AAAAAAAAAAEAAAgAAAAAAQAAEAAAAAABAAAYAAAAAAEAAAgAAAAAAQAAKAAAAAABAAAQAAAAAAEA\n",
       "AAAAAAAAAQAACAAAAAABAAAoAAAAAAEAABAAAAAAAQAAAAAAAAABAAAIAAAAAAEAACgAAAAAAQAA\n",
       "EAAAAAABAAAAAAAAAAEAAAgAAAAAAQAAKAAAAAABAAAQAAAAAAEAAAAAAAAAAQAACAAAAAABAAAY\n",
       "AAAAAAEAAAgAAAAAAQAAKAAAAAABAAAQAAAAAAEAAAAAAAAAAQAACAAAAAABAAAYAAAAAAEAAAgA\n",
       "AAAAAQAAIAAAAAACAAAIAAAAAAEAACgAAAAAAQAAEAAAAAABAAAAAAAAAAEAAAgAAAAAAQAAIAAA\n",
       "AAACAAAIAAAAAAEAACgAAAAAAQAAEAAAAAABAAAAAAAAAAEAAAgAAAAAHHN0c2MAAAAAAAAAAQAA\n",
       "AAEAAAA0AAAAAQAAAORzdHN6AAAAAAAAAAAAAAA0AAAWTAAAA8sAAAKVAAACkAAAAO0AAAJxAAAA\n",
       "5gAAAu4AAAF/AAAA2QAAAWEAAAKpAAAC9AAAAUoAAAMPAAABagAAAQgAAAD8AAADtgAAAZkAAAFU\n",
       "AAABDwAAApIAAAGHAAABNAAAAXkAAAM/AAABRAAAAW0AAAE3AAAC6wAAASkAAAKnAAABOgAAATQA\n",
       "AAENAAAB7gAAARIAAAKGAAABRgAAAS0AAAKQAAABxgAAAPUAAAF5AAAB+gAAATUAAAGlAAABfAAA\n",
       "AicAAAG2AAABcAAAABRzdGNvAAAAAAAAAAEAAAAsAAAAYnVkdGEAAABabWV0YQAAAAAAAAAhaGRs\n",
       "cgAAAAAAAAAAbWRpcmFwcGwAAAAAAAAAAAAAAAAtaWxzdAAAACWpdG9vAAAAHWRhdGEAAAABAAAA\n",
       "AExhdmY1Ny43MS4xMDA=\n",
       "\">\n",
       "  Your browser does not support the video tag.\n",
       "</video>"
      ],
      "text/plain": [
       "<matplotlib.animation.FuncAnimation at 0x11115cf28>"
      ]
     },
     "execution_count": 15,
     "metadata": {},
     "output_type": "execute_result"
    },
    {
     "data": {
      "image/png": "[encoded data removed]",
      "text/plain": [
       "<matplotlib.figure.Figure at 0x11105da90>"
      ]
     },
     "metadata": {},
     "output_type": "display_data"
    }
   ],
   "source": [
    "plot_image(x_data,y_data,steps)"
   ]
  }
 ],
 "metadata": {
  "kernelspec": {
   "display_name": "Python 3",
   "language": "python",
   "name": "python3"
  },
  "language_info": {
   "codemirror_mode": {
    "name": "ipython",
    "version": 3
   },
   "file_extension": ".py",
   "mimetype": "text/x-python",
   "name": "python",
   "nbconvert_exporter": "python",
   "pygments_lexer": "ipython3",
   "version": "3.6.0"
  }
 },
 "nbformat": 4,
 "nbformat_minor": 2
}
